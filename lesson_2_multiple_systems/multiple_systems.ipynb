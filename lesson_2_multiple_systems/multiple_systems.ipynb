{
 "cells": [
  {
   "cell_type": "markdown",
   "metadata": {},
   "source": [
    "[IBM Quantum Learning](https://learning.quantum.ibm.com/)\\\n",
    "[Basics of quantum information](https://learning.quantum.ibm.com/course/basics-of-quantum-information)\\\n",
    "[Multiple systems](https://learning.quantum.ibm.com/course/basics-of-quantum-information/multiple-systems)"
   ]
  },
  {
   "cell_type": "code",
   "execution_count": 2,
   "metadata": {},
   "outputs": [],
   "source": [
    "import numpy as np\n",
    "\n",
    "# Set precision to all np matrix\n",
    "np.set_printoptions(precision=2)"
   ]
  },
  {
   "cell_type": "markdown",
   "metadata": {},
   "source": [
    "A simple, yet critically important, idea to keep in mind going into this lesson is that we can always choose to view multiple systems together as if they form a single, compound system — to which the discussion in the previous lesson applies."
   ]
  },
  {
   "cell_type": "markdown",
   "metadata": {},
   "source": [
    "# Classical information"
   ]
  },
  {
   "cell_type": "markdown",
   "metadata": {},
   "source": [
    "### Classical states via the Cartesian product"
   ]
  },
  {
   "cell_type": "markdown",
   "metadata": {},
   "source": [
    "In simple terms, the Cartesian product is precisely the mathematical notion that captures the idea of viewing an element of one set and an element of a second set together, as if they form a single element of a single set."
   ]
  },
  {
   "cell_type": "markdown",
   "metadata": {},
   "source": [
    "Σ₁ × ⋯ × Σₙ = {(a₁, ..., aₙ) : a₁ ∈ Σ₁, ..., aₙ ∈ Σₙ}\n"
   ]
  },
  {
   "cell_type": "markdown",
   "metadata": {},
   "source": [
    "### Representing states as strings"
   ]
  },
  {
   "cell_type": "markdown",
   "metadata": {},
   "source": [
    "(The set {0, 1} is commonly referred to as the binary alphabet.) There are then 2^10 = 1024 classical states of the joint system (X₁, ..., X₁₀), which are the elements of the set.\n",
    "\n",
    "Σ₁ × Σ₂ × ⋯ × Σ₁₀ = {0, 1}¹⁰\n",
    "\n",
    "Written as strings, these classical states look like this:\n",
    "\n",
    "0000000000\\\n",
    "0000000001\\\n",
    "0000000010\\\n",
    "0000000011\\\n",
    "0000000100\\\n",
    "⋮\\\n",
    "1111111111\n",
    "\n",
    "For the classical state 0001010000, for instance, we see that X₄ and X₆ are in the state 1, while all other systems are in the state 0.\n",
    "​\n",
    "\n"
   ]
  },
  {
   "cell_type": "markdown",
   "metadata": {},
   "source": [
    "### Probabilistic state"
   ]
  },
  {
   "cell_type": "markdown",
   "metadata": {},
   "source": [
    "Pr((X,Y)=(0,0)) = 1/2\\\n",
    "Pr((X,Y)=(0,1)) = 0\\\n",
    "Pr((X,Y)=(1,0)) = 0\\\n",
    "Pr((X,Y)=(1,1)) = 1/2"
   ]
  },
  {
   "cell_type": "markdown",
   "metadata": {},
   "source": [
    "### Ordering Cartesian product state sets"
   ]
  },
  {
   "cell_type": "markdown",
   "metadata": {},
   "source": [
    "For example, according to this convention, the Cartesian product {1, 2, 3} × {0, 1} is ordered like this:\n",
    "\n",
    "(1, 0), (1, 1), (2, 0), (2, 1), (3, 0), (3, 1)."
   ]
  },
  {
   "cell_type": "markdown",
   "metadata": {},
   "source": [
    "### Independence of two systems"
   ]
  },
  {
   "cell_type": "code",
   "execution_count": 3,
   "metadata": {},
   "outputs": [
    {
     "name": "stdout",
     "output_type": "stream",
     "text": [
      "[[0.17]\n",
      " [0.08]\n",
      " [0.5 ]\n",
      " [0.25]]\n",
      "\n",
      "\n",
      "[[[[0.17]\n",
      "   [0.08]]]\n",
      "\n",
      "\n",
      " [[[0.5 ]\n",
      "   [0.25]]]]\n"
     ]
    }
   ],
   "source": [
    "vec_00 = (1/6) * np.array([[1],\n",
    "\t\t\t\t   \t\t   [0],\n",
    "\t\t\t\t   \t\t   [0],\n",
    "\t\t\t\t   \t\t   [0]])\n",
    "\n",
    "vec_01 = (1/12) * np.array([[0],\n",
    "\t\t\t\t   \t\t\t[1],\n",
    "\t\t\t\t   \t\t\t[0],\n",
    "\t\t\t\t   \t\t\t[0]])\n",
    "\n",
    "vec_10 = (1/2) * np.array([[0],\n",
    "\t\t\t\t  \t\t   [0],\n",
    "\t\t\t\t  \t\t   [1],\n",
    "\t\t\t\t  \t\t   [0]])\n",
    "\n",
    "vec_11 = (1/4) * np.array([[0],\n",
    "\t\t\t\t   \t\t   [0],\n",
    "\t\t\t\t   \t\t   [0],\n",
    "\t\t\t\t   \t\t   [1]])\n",
    "\n",
    "cat_fi = (1/4) * np.array([[1],\n",
    "\t\t\t\t   \t\t   [0]]) + (3/4) * np.array([[0],\n",
    "\t\t\t\t\t\t\t\t\t   \t\t\t\t [1]])\n",
    "\n",
    "cat_psi = (2/3) * np.array([[1],\n",
    "\t\t\t\t   \t\t    [0]]) + (1/3) * np.array([[0],\n",
    "\t\t\t\t\t\t\t\t\t   \t\t\t\t  [1]])\n",
    "\n",
    "print(vec_00 + vec_01 + vec_10 + vec_11)\n",
    "print(\"\\n\")\n",
    "print(np.tensordot(cat_fi, cat_psi, 0))"
   ]
  },
  {
   "cell_type": "markdown",
   "metadata": {},
   "source": [
    "Having defined independence between two systems, we can now define correlation precisely as a lack of independence."
   ]
  },
  {
   "cell_type": "code",
   "execution_count": 4,
   "metadata": {},
   "outputs": [
    {
     "name": "stdout",
     "output_type": "stream",
     "text": [
      "[[0.5]\n",
      " [0. ]\n",
      " [0. ]\n",
      " [0.5]]\n"
     ]
    }
   ],
   "source": [
    "vec_00 = (1/2) * np.array([[1],\n",
    "\t\t\t\t   \t\t   [0],\n",
    "\t\t\t\t   \t\t   [0],\n",
    "\t\t\t\t   \t\t   [0]])\n",
    "\n",
    "vec_01 = (0) * np.array([[0],\n",
    "\t\t\t\t   \t\t [1],\n",
    "\t\t\t\t   \t\t [0],\n",
    "\t\t\t\t   \t\t [0]])\n",
    "\n",
    "vec_10 = (0) * np.array([[0],\n",
    "\t\t\t\t  \t\t [0],\n",
    "\t\t\t\t  \t\t [1],\n",
    "\t\t\t\t  \t\t [0]])\n",
    "\n",
    "vec_11 = (1/2) * np.array([[0],\n",
    "\t\t\t\t   \t\t   [0],\n",
    "\t\t\t\t   \t\t   [0],\n",
    "\t\t\t\t   \t\t   [1]])\n",
    "\n",
    "print(vec_00 + vec_01 + vec_10 + vec_11)"
   ]
  },
  {
   "cell_type": "markdown",
   "metadata": {},
   "source": [
    "### Tensor products of vectors"
   ]
  },
  {
   "cell_type": "markdown",
   "metadata": {},
   "source": [
    "``` python\n",
    "​(α₁ ⋮ αₘ) ⊗ (β₁ ⋮ βₖ) = \n",
    "    (α₁β₁ ⋮ α₁βₖ) \n",
    "    (α₂β₁ ⋮ α₂βₖ) \n",
    "          ⋮\n",
    "    (αₘβ₁ ⋮ αₘβₖ)\n"
   ]
  },
  {
   "cell_type": "code",
   "execution_count": 5,
   "metadata": {},
   "outputs": [
    {
     "name": "stdout",
     "output_type": "stream",
     "text": [
      "[[[[ 6]\n",
      "   [ 0]\n",
      "   [ 2]]]\n",
      "\n",
      "\n",
      " [[[18]\n",
      "   [ 0]\n",
      "   [ 6]]]\n",
      "\n",
      "\n",
      " [[[30]\n",
      "   [ 0]\n",
      "   [10]]]]\n"
     ]
    }
   ],
   "source": [
    "vec1 = np.array([[1],\n",
    "\t\t\t\t [3],\n",
    "\t\t\t\t [5]])\n",
    "\n",
    "vec2 = np.array([[6],\n",
    "\t\t\t\t [0],\n",
    "\t\t\t\t [2]])\n",
    "\n",
    "print(np.tensordot(vec1, vec2, 0))"
   ]
  },
  {
   "cell_type": "markdown",
   "metadata": {},
   "source": [
    "1. Linearity in the first argument:\n",
    "\n",
    "(|ϕ₁⟩ + |ϕ₂⟩) ⊗ |ψ⟩ = |ϕ₁⟩ ⊗ |ψ⟩ + |ϕ₂⟩ ⊗ |ψ⟩\n"
   ]
  },
  {
   "cell_type": "code",
   "execution_count": 6,
   "metadata": {},
   "outputs": [
    {
     "name": "stdout",
     "output_type": "stream",
     "text": [
      "[[[[0.45]\n",
      "   [0.3 ]]]\n",
      "\n",
      "\n",
      " [[[0.75]\n",
      "   [0.5 ]]]]\n",
      "\n",
      "[[[[0.45]\n",
      "   [0.3 ]]]\n",
      "\n",
      "\n",
      " [[[0.75]\n",
      "   [0.5 ]]]]\n"
     ]
    }
   ],
   "source": [
    "cat_fi_1 = np.array([[1/2],\n",
    "\t\t\t\t      [1/2]])\n",
    "\n",
    "cat_fi_2 = np.array([[1/4],\n",
    "\t\t\t\t      [3/4]])\n",
    "\n",
    "cat_psi = np.array([[3/5],\n",
    "\t\t\t\t    [2/5]])\n",
    "\n",
    "res_1 = np.tensordot((cat_fi_1 + cat_fi_2), cat_psi, 0)\n",
    "res_2 = np.tensordot(cat_fi_1 , cat_psi, 0) + np.tensordot(cat_fi_2 , cat_psi, 0)\n",
    "print(f\"{res_1}\\n\\n{res_2}\")\n",
    "\n"
   ]
  },
  {
   "cell_type": "markdown",
   "metadata": {},
   "source": [
    "(α|ϕ⟩) ⊗ |ψ⟩ = α(|ϕ⟩ ⊗ |ψ⟩)"
   ]
  },
  {
   "cell_type": "code",
   "execution_count": 7,
   "metadata": {},
   "outputs": [
    {
     "name": "stdout",
     "output_type": "stream",
     "text": [
      "[[[[0.3]\n",
      "   [0.2]]]\n",
      "\n",
      "\n",
      " [[[0.9]\n",
      "   [0.6]]]]\n",
      "\n",
      "[[[[0.3]\n",
      "   [0.2]]]\n",
      "\n",
      "\n",
      " [[[0.9]\n",
      "   [0.6]]]]\n"
     ]
    }
   ],
   "source": [
    "alpha = 2\n",
    "\n",
    "cat_fi = np.array([[1/4],\n",
    "\t\t\t\t   [3/4]])\n",
    "\n",
    "cat_psi = np.array([[3/5],\n",
    "\t\t\t\t    [2/5]])\n",
    "\n",
    "res_1 = np.tensordot((alpha * cat_fi), cat_psi, 0)\n",
    "res_2 = alpha * np.tensordot(cat_fi , cat_psi, 0)\n",
    "print(f\"{res_1}\\n\\n{res_2}\")"
   ]
  },
  {
   "cell_type": "markdown",
   "metadata": {},
   "source": [
    "2. Linearity in the second argument:\n",
    "\n",
    "|ϕ⟩ ⊗ (|ψ₁⟩ + |ψ₂⟩) = |ϕ⟩ ⊗ |ψ₁⟩ + |ϕ⟩ ⊗ |ψ₂⟩"
   ]
  },
  {
   "cell_type": "code",
   "execution_count": 8,
   "metadata": {},
   "outputs": [
    {
     "name": "stdout",
     "output_type": "stream",
     "text": [
      "[[[[0.45]\n",
      "   [0.75]]]\n",
      "\n",
      "\n",
      " [[[0.3 ]\n",
      "   [0.5 ]]]]\n",
      "\n",
      "[[[[0.45]\n",
      "   [0.75]]]\n",
      "\n",
      "\n",
      " [[[0.3 ]\n",
      "   [0.5 ]]]]\n"
     ]
    }
   ],
   "source": [
    "cat_fi = np.array([[3/5],\n",
    "\t\t\t\t    [2/5]])\n",
    "\n",
    "cat_psi_1 = np.array([[1/2],\n",
    "\t\t\t\t      [1/2]])\n",
    "\n",
    "cat_psi_2 = np.array([[1/4],\n",
    "\t\t\t\t      [3/4]])\n",
    "\n",
    "\n",
    "res_1 = np.tensordot(cat_fi, (cat_psi_1 + cat_psi_2), 0)\n",
    "res_2 = np.tensordot(cat_fi , cat_psi_1, 0) + np.tensordot(cat_fi , cat_psi_2, 0)\n",
    "print(f\"{res_1}\\n\\n{res_2}\")"
   ]
  },
  {
   "cell_type": "markdown",
   "metadata": {},
   "source": [
    "|ϕ⟩ ⊗ (α|ψ⟩) = α(|ϕ⟩ ⊗ |ψ⟩)"
   ]
  },
  {
   "cell_type": "code",
   "execution_count": 9,
   "metadata": {},
   "outputs": [
    {
     "name": "stdout",
     "output_type": "stream",
     "text": [
      "[[[[0.3]\n",
      "   [0.2]]]\n",
      "\n",
      "\n",
      " [[[0.9]\n",
      "   [0.6]]]]\n",
      "\n",
      "[[[[0.3]\n",
      "   [0.2]]]\n",
      "\n",
      "\n",
      " [[[0.9]\n",
      "   [0.6]]]]\n"
     ]
    }
   ],
   "source": [
    "cat_fi = np.array([[1/4],\n",
    "\t\t\t\t   [3/4]])\n",
    "\n",
    "alpha = 2\n",
    "\n",
    "cat_psi = np.array([[3/5],\n",
    "\t\t\t\t    [2/5]])\n",
    "\n",
    "res_1 = np.tensordot(cat_fi, (alpha * cat_psi), 0)\n",
    "res_2 = alpha * np.tensordot(cat_fi , cat_psi, 0)\n",
    "print(f\"{res_1}\\n\\n{res_2}\")"
   ]
  },
  {
   "cell_type": "markdown",
   "metadata": {},
   "source": [
    "### Independence and tensor products for three or more systems"
   ]
  },
  {
   "cell_type": "code",
   "execution_count": 10,
   "metadata": {},
   "outputs": [
    {
     "name": "stdout",
     "output_type": "stream",
     "text": [
      "Cartesian product: [(0, 0, 0), (0, 0, 1), (0, 1, 0), (0, 1, 1), (1, 0, 0), (1, 0, 1), (1, 1, 0), (1, 1, 1)]\n"
     ]
    }
   ],
   "source": [
    "from itertools import product\n",
    "\n",
    "# Define the sets of elements\n",
    "set1 = [0, 1]\n",
    "set2 = [0, 1]\n",
    "set3 = [0, 1]\n",
    "\n",
    "# Calculate the Cartesian product\n",
    "cartesian_product = list(product(set1, set2, set3))\n",
    "\n",
    "# Print the Cartesian product\n",
    "print(\"Cartesian product:\", cartesian_product)\n"
   ]
  },
  {
   "cell_type": "code",
   "execution_count": 11,
   "metadata": {},
   "outputs": [
    {
     "name": "stdout",
     "output_type": "stream",
     "text": [
      "(0, 1, 0)\n",
      "\n",
      "\n",
      "[[[[[[0]\n",
      "     [0]]]\n",
      "\n",
      "\n",
      "   [[[1]\n",
      "     [0]]]]]\n",
      "\n",
      "\n",
      "\n",
      "\n",
      " [[[[[0]\n",
      "     [0]]]\n",
      "\n",
      "\n",
      "   [[[0]\n",
      "     [0]]]]]]\n"
     ]
    }
   ],
   "source": [
    "cat_a_1 = np.array([[1],\n",
    "\t\t\t\t\t[0]])\n",
    "\n",
    "cat_a_2 = np.array([[0],\n",
    "\t\t\t\t\t[1]])\n",
    "\n",
    "cat_a_3 = np.array([[1],\n",
    "\t\t\t\t\t[0]])\n",
    "\n",
    "print(cartesian_product[2])\n",
    "print(\"\\n\")\n",
    "print(np.tensordot(np.tensordot(cat_a_1, cat_a_2, 0), cat_a_3, 0))"
   ]
  },
  {
   "cell_type": "markdown",
   "metadata": {},
   "source": [
    "### Measurements of probabilistic states"
   ]
  },
  {
   "cell_type": "markdown",
   "metadata": {},
   "source": [
    "### Partial measurements"
   ]
  },
  {
   "cell_type": "code",
   "execution_count": 12,
   "metadata": {},
   "outputs": [
    {
     "name": "stdout",
     "output_type": "stream",
     "text": [
      "Cartesian product: [(0, 1), (0, 2), (0, 3), (1, 1), (1, 2), (1, 3)]\n"
     ]
    }
   ],
   "source": [
    "# Define the sets of elements\n",
    "set1 = [0, 1]\n",
    "set2 = [1, 2, 3]\n",
    "\n",
    "# Calculate the Cartesian product\n",
    "cartesian_product = list(product(set1, set2))\n",
    "\n",
    "# Print the Cartesian product\n",
    "print(\"Cartesian product:\", cartesian_product)"
   ]
  },
  {
   "cell_type": "markdown",
   "metadata": {},
   "source": [
    "\n",
    "\n",
    "​\n",
    "\n",
    "\n",
    "\n",
    "\n"
   ]
  }
 ],
 "metadata": {
  "kernelspec": {
   "display_name": "Python 3",
   "language": "python",
   "name": "python3"
  },
  "language_info": {
   "codemirror_mode": {
    "name": "ipython",
    "version": 3
   },
   "file_extension": ".py",
   "mimetype": "text/x-python",
   "name": "python",
   "nbconvert_exporter": "python",
   "pygments_lexer": "ipython3",
   "version": "3.8.10"
  }
 },
 "nbformat": 4,
 "nbformat_minor": 2
}
