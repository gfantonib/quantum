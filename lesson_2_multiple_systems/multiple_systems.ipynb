{
 "cells": [
  {
   "cell_type": "markdown",
   "metadata": {},
   "source": [
    "[IBM Quantum Learning](https://learning.quantum.ibm.com/)\\\n",
    "[Basics of quantum information](https://learning.quantum.ibm.com/course/basics-of-quantum-information)\\\n",
    "[Multiple systems](https://learning.quantum.ibm.com/course/basics-of-quantum-information/multiple-systems)"
   ]
  },
  {
   "cell_type": "code",
   "execution_count": 1,
   "metadata": {},
   "outputs": [],
   "source": [
    "import numpy as np"
   ]
  },
  {
   "cell_type": "code",
   "execution_count": 9,
   "metadata": {},
   "outputs": [
    {
     "name": "stdout",
     "output_type": "stream",
     "text": [
      "[[[[ 6]\n",
      "   [ 4]\n",
      "   [ 2]]]\n",
      "\n",
      "\n",
      " [[[18]\n",
      "   [12]\n",
      "   [ 6]]]\n",
      "\n",
      "\n",
      " [[[30]\n",
      "   [20]\n",
      "   [10]]]]\n"
     ]
    }
   ],
   "source": [
    "vec1 = np.array([[1],\n",
    "\t\t\t\t [3],\n",
    "\t\t\t\t [5]])\n",
    "\n",
    "vec2 = np.array([[6],\n",
    "\t\t\t\t [4],\n",
    "\t\t\t\t [2]])\n",
    "\n",
    "print(np.tensordot(vec1, vec2, 0))"
   ]
  },
  {
   "cell_type": "code",
   "execution_count": null,
   "metadata": {},
   "outputs": [],
   "source": []
  }
 ],
 "metadata": {
  "kernelspec": {
   "display_name": "Python 3",
   "language": "python",
   "name": "python3"
  },
  "language_info": {
   "codemirror_mode": {
    "name": "ipython",
    "version": 3
   },
   "file_extension": ".py",
   "mimetype": "text/x-python",
   "name": "python",
   "nbconvert_exporter": "python",
   "pygments_lexer": "ipython3",
   "version": "3.8.10"
  }
 },
 "nbformat": 4,
 "nbformat_minor": 2
}
