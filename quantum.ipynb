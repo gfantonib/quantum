{
 "cells": [
  {
   "cell_type": "code",
   "execution_count": 2,
   "metadata": {},
   "outputs": [
    {
     "name": "stdout",
     "output_type": "stream",
     "text": [
      "[[0.75]\n",
      " [0.25]]\n"
     ]
    }
   ],
   "source": [
    "import numpy as np\n",
    "import math\n",
    "\n",
    "vector_zero = np.array([[1],\n",
    "\t\t\t\t\t\t[0]])\n",
    "\n",
    "vector_one = np.array([[0],\n",
    "\t\t\t\t\t   [1]])\n",
    "\n",
    "vector_zero = 3/4 * vector_zero\n",
    "\n",
    "vector_one = 1/4 * vector_one\n",
    "\n",
    "vector_probability = vector_zero + vector_one\n",
    "print(vector_probability)"
   ]
  },
  {
   "cell_type": "code",
   "execution_count": 11,
   "metadata": {},
   "outputs": [
    {
     "name": "stdout",
     "output_type": "stream",
     "text": [
      "[[0]\n",
      " [1]]\n",
      "\n",
      "\n",
      "[[1]\n",
      " [0]]\n"
     ]
    }
   ],
   "source": [
    "cat_0 = np.array([[1],\n",
    "\t\t\t\t  [0]])\n",
    "\n",
    "cat_1 = np.array([[0],\n",
    "\t\t\t\t  [1]])\n",
    "\n",
    "m_1 = ([[1, 1],\n",
    "\t\t[0, 0]])\n",
    "\n",
    "m_2 = ([[1, 0],\n",
    "\t\t[0, 1]])\n",
    "\n",
    "m_3 = ([[0, 1],\n",
    "\t\t[1, 0]])\n",
    "\n",
    "m_4 = ([[0, 0],\n",
    "\t\t[1, 1]])\n",
    "\n",
    "print(np.dot(m_3, cat_0))\n",
    "print(\"\\n\")\n",
    "print(np.dot(m_3, cat_1))"
   ]
  },
  {
   "cell_type": "code",
   "execution_count": 4,
   "metadata": {},
   "outputs": [
    {
     "name": "stdout",
     "output_type": "stream",
     "text": [
      "[[1 0]\n",
      " [0 0]]\n",
      "\n",
      "[[1]]\n",
      "\n"
     ]
    }
   ],
   "source": [
    "ket_0 = [[1],\n",
    "\t\t [0]]\n",
    "\n",
    "bra_1 = [[1, 0]]\n",
    "\n",
    "four_four = np.dot(ket_0, bra_1)\n",
    "one_one = np.dot(bra_1, ket_0)\n",
    "\n",
    "print(f\"{four_four}\\n\")\n",
    "print(f\"{one_one}\\n\")"
   ]
  },
  {
   "cell_type": "code",
   "execution_count": 5,
   "metadata": {},
   "outputs": [
    {
     "name": "stdout",
     "output_type": "stream",
     "text": [
      "[[1.]\n",
      " [0.]]\n",
      "\n",
      "[[0.5]\n",
      " [0.5]]\n",
      "\n"
     ]
    }
   ],
   "source": [
    "prob_op = np.array([[1, 1/2],\n",
    "\t\t\t\t\t[0, 1/2]])\n",
    "\n",
    "bit_0 = np.array([[1],\n",
    "\t\t\t\t [0]])\n",
    "\n",
    "bit_1 = np.array([[0],\n",
    "\t\t\t\t [1]])\n",
    "\n",
    "first_op = np.dot(prob_op, bit_0)\n",
    "second_op = np.dot(prob_op, bit_1)\n",
    "\n",
    "print(f\"{first_op}\\n\")\n",
    "print(f\"{second_op}\\n\")"
   ]
  },
  {
   "cell_type": "code",
   "execution_count": 6,
   "metadata": {},
   "outputs": [
    {
     "name": "stdout",
     "output_type": "stream",
     "text": [
      "Vector: [1 2 2]\n",
      "Norm of the vector: 3.0\n"
     ]
    }
   ],
   "source": [
    "# Define a vector\n",
    "vector = np.array([1, 2, 2])\n",
    "\n",
    "# Calculate the norm of the vector\n",
    "norm = np.linalg.norm(vector)\n",
    "\n",
    "print(\"Vector:\", vector)\n",
    "print(\"Norm of the vector:\", norm)"
   ]
  },
  {
   "cell_type": "code",
   "execution_count": 7,
   "metadata": {},
   "outputs": [
    {
     "name": "stdout",
     "output_type": "stream",
     "text": [
      "[[ 0.33333333+0.66666667j]\n",
      " [-0.66666667+0.j        ]]\n"
     ]
    }
   ],
   "source": [
    "bit_0 = np.array([[1],\n",
    "\t\t\t\t [0]])\n",
    "\n",
    "bit_1 = np.array([[0],\n",
    "\t\t\t\t [1]])\n",
    "\n",
    "q_bit_state = ((1 + 2j) / 3) * bit_0 - (2 / 3) * bit_1\n",
    "\n",
    "print(q_bit_state)"
   ]
  },
  {
   "cell_type": "code",
   "execution_count": 8,
   "metadata": {},
   "outputs": [
    {
     "name": "stdout",
     "output_type": "stream",
     "text": [
      "[[ 0.33+0.67j]\n",
      " [-0.67+0.j  ]]\n",
      "\n",
      "[[ 0.33-0.67j]\n",
      " [-0.67-0.j  ]]\n",
      "\n",
      "[[ 0.33-0.67j -0.67-0.j  ]]\n",
      "\n"
     ]
    }
   ],
   "source": [
    "# Define your vector as a NumPy array\n",
    "vector = np.array([[(1+2j)/3], \n",
    "\t\t\t\t   [-2/3]])\n",
    "\n",
    "# Calculate the conjugate-transpose\n",
    "conjugate = np.conjugate(vector)\n",
    "conjugate_transpose = conjugate.T\n",
    "\n",
    "np.set_printoptions(precision=2)\n",
    "print(f\"{vector}\\n\")\n",
    "print(f\"{conjugate}\\n\")\n",
    "print(f\"{conjugate_transpose}\\n\")"
   ]
  },
  {
   "cell_type": "code",
   "execution_count": 9,
   "metadata": {},
   "outputs": [
    {
     "name": "stdout",
     "output_type": "stream",
     "text": [
      "[[1]\n",
      " [2]\n",
      " [3]]\n"
     ]
    }
   ],
   "source": [
    "vec_1 = np.array([[1],\n",
    "\t\t\t\t  [0],\n",
    "\t\t\t\t  [0]])\n",
    "\n",
    "vec_2 = np.array([[0],\n",
    "\t\t\t\t  [2],\n",
    "\t\t\t\t  [0]])\n",
    "\n",
    "vec_3 = np.array([[0],\n",
    "\t\t\t\t  [0],\n",
    "\t\t\t\t  [3]])\n",
    "\n",
    "print(vec_1 + vec_2 + vec_3)"
   ]
  },
  {
   "cell_type": "code",
   "execution_count": 12,
   "metadata": {},
   "outputs": [
    {
     "name": "stdout",
     "output_type": "stream",
     "text": [
      "2.8030595529069404\n"
     ]
    }
   ],
   "source": [
    "# Some error I dont know why\n",
    "\n",
    "list = []\n",
    "number = 0\n",
    "for i in range(1, 11, 1):\n",
    "\tnumber = number + i/math.sqrt(385)\n",
    "\n",
    "print(number)"
   ]
  },
  {
   "cell_type": "code",
   "execution_count": 25,
   "metadata": {},
   "outputs": [
    {
     "name": "stdout",
     "output_type": "stream",
     "text": [
      "[[1]]\n",
      "\n",
      "\n",
      "[[1 0]\n",
      " [0 0]]\n"
     ]
    }
   ],
   "source": [
    "ket_0 = np.array([[1],\n",
    "\t\t\t\t  [0]])\n",
    "\n",
    "ket_1 = np.array([[0],\n",
    "\t\t\t\t  [1]])\n",
    "\n",
    "bra_0 = np.array([[1, 0]])\n",
    "\n",
    "bra_1 = np.array([[0, 1]])\n",
    "\n",
    "print(np.dot(bra_0, ket_0))\n",
    "print(\"\\n\")\n",
    "print(np.dot(ket_0, bra_0))"
   ]
  }
 ],
 "metadata": {
  "kernelspec": {
   "display_name": "Python 3",
   "language": "python",
   "name": "python3"
  },
  "language_info": {
   "codemirror_mode": {
    "name": "ipython",
    "version": 3
   },
   "file_extension": ".py",
   "mimetype": "text/x-python",
   "name": "python",
   "nbconvert_exporter": "python",
   "pygments_lexer": "ipython3",
   "version": "3.8.10"
  }
 },
 "nbformat": 4,
 "nbformat_minor": 2
}
