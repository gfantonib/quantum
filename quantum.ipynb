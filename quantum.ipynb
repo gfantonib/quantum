{
 "cells": [
  {
   "cell_type": "code",
   "execution_count": 2,
   "metadata": {},
   "outputs": [],
   "source": [
    "import numpy as np\n",
    "import math"
   ]
  },
  {
   "cell_type": "code",
   "execution_count": 4,
   "metadata": {},
   "outputs": [
    {
     "name": "stdout",
     "output_type": "stream",
     "text": [
      "[[0.75]\n",
      " [0.25]]\n"
     ]
    }
   ],
   "source": [
    "# Representation of the bit in state 0 and 1.\n",
    "# Building a simple probability vector.\n",
    "\n",
    "bit_0 = np.array([[1],\n",
    "\t\t\t\t  [0]])\n",
    "\n",
    "bit_1 = np.array([[0],\n",
    "\t\t\t      [1]])\n",
    "\n",
    "bit_0 = 3/4 * bit_0\n",
    "\n",
    "bit_1 = 1/4 * bit_1\n",
    "\n",
    "probability_vector = bit_0 + bit_1\n",
    "print(probability_vector)"
   ]
  },
  {
   "cell_type": "code",
   "execution_count": 19,
   "metadata": {},
   "outputs": [
    {
     "name": "stdout",
     "output_type": "stream",
     "text": [
      "result_1: \n",
      "[[1]\n",
      " [0]]\n",
      "result_2: \n",
      "[[1]\n",
      " [0]]\n",
      "\n",
      "result_3: \n",
      "[[1]\n",
      " [0]]\n",
      "result_4: \n",
      "[[0]\n",
      " [1]]\n",
      "\n",
      "result_5: \n",
      "[[0]\n",
      " [1]]\n",
      "result_6: \n",
      "[[1]\n",
      " [0]]\n",
      "\n",
      "result_7: \n",
      "[[0]\n",
      " [1]]\n",
      "result_8: \n",
      "[[0]\n",
      " [1]]\n",
      "\n"
     ]
    }
   ],
   "source": [
    "# Applying a deterministic function (matrix) to each bit state. \n",
    "\n",
    "# |0>\n",
    "cat_0 = np.array([[1],\n",
    "\t\t\t\t  [0]])\n",
    "\n",
    "# |1>\n",
    "cat_1 = np.array([[0],\n",
    "\t\t\t\t  [1]])\n",
    "\n",
    "# f1(a) = 0\n",
    "m_1 = np.array([[1, 1],\n",
    "\t\t[0, 0]])\n",
    "\n",
    "# f2 (identity function): f2(a) = a\n",
    "m_2 = np.array([[1, 0],\n",
    "\t\t[0, 1]])\n",
    "\n",
    "# f3 (NOT function): f3(0) = 1 and f3(1) = 0\n",
    "m_3 = np.array([[0, 1],\n",
    "\t\t[1, 0]])\n",
    "\n",
    "# f4(a) = 1\n",
    "m_4 = np.array([[0, 0],\n",
    "\t\t[1, 1]])\n",
    "\n",
    "result_1 = np.dot(m_1, cat_0)\n",
    "result_2 = np.dot(m_1, cat_1)\n",
    "\n",
    "result_3 = np.dot(m_2, cat_0)\n",
    "result_4 = np.dot(m_2, cat_1)\n",
    "\n",
    "result_5 = np.dot(m_3, cat_0)\n",
    "result_6 = np.dot(m_3, cat_1)\n",
    "\n",
    "result_7 = np.dot(m_4, cat_0)\n",
    "result_8 = np.dot(m_4, cat_1)\n",
    "\n",
    "print(f\"result_1: \\n{result_1}\\nresult_2: \\n{result_2}\\n\")\n",
    "print(f\"result_3: \\n{result_3}\\nresult_4: \\n{result_4}\\n\")\n",
    "print(f\"result_5: \\n{result_5}\\nresult_6: \\n{result_6}\\n\")\n",
    "print(f\"result_7: \\n{result_7}\\nresult_8: \\n{result_8}\\n\")\n"
   ]
  },
  {
   "cell_type": "code",
   "execution_count": 21,
   "metadata": {},
   "outputs": [
    {
     "name": "stdout",
     "output_type": "stream",
     "text": [
      "[[0]\n",
      " [1]]\n",
      "[[0 0 0]\n",
      " [1 0 0]]\n"
     ]
    }
   ],
   "source": [
    "m = np.array([[0, 1, 0],\n",
    "\t         [1, 0, 1]])\n",
    "\n",
    "a = np.array([[1],\n",
    "\t\t\t  [0],\n",
    "\t\t\t  [0]])\n",
    "\n",
    "b = np.array([[1, 0, 0]])\n",
    "c = np.array([[0],\n",
    "\t\t\t  [1]])\n",
    "\n",
    "\n",
    "print(np.dot(m, a))\n",
    "print(np.dot(c, b))\n"
   ]
  },
  {
   "cell_type": "code",
   "execution_count": 16,
   "metadata": {},
   "outputs": [
    {
     "name": "stdout",
     "output_type": "stream",
     "text": [
      "braket_0:\n",
      "[[1]]\n",
      "\n",
      "ket_bra_0:\n",
      "[[1 0]\n",
      " [0 0]]\n",
      "\n",
      "braket_1:\n",
      "[[1]]\n",
      "\n",
      "ket_bra_1:\n",
      "[[0 0]\n",
      " [0 1]]\n",
      "\n",
      "bra_1ket_0:\n",
      "[[0]]\n",
      "\n",
      "ket_0bra_1:\n",
      "[[0 1]\n",
      " [0 0]]\n",
      "\n"
     ]
    }
   ],
   "source": [
    "# |a><b|; <a||b>\n",
    "\n",
    "bra_0 = [[1, 0]]\n",
    "\n",
    "ket_0 = [[1],\n",
    "\t\t [0]]\n",
    "\n",
    "bra_1 = [[0, 1]]\n",
    "\n",
    "ket_1 = [[0],\n",
    "\t\t [1]]\n",
    "\n",
    "braket_0 = np.dot(bra_0, ket_0)\n",
    "ket_bra_0 = np.dot(ket_0, bra_0)\n",
    "\n",
    "braket_1 = np.dot(bra_1, ket_1)\n",
    "ket_bra_1 = np.dot(ket_1, bra_1)\n",
    "\n",
    "bra_1ket_0 = np.dot(bra_1, ket_0)\n",
    "ket_0bra_1 = np.dot(ket_0, bra_1)\n",
    "\n",
    "print(f\"braket_0:\\n{braket_0}\\n\")\n",
    "print(f\"ket_bra_0:\\n{ket_bra_0}\\n\")\n",
    "print(f\"braket_1:\\n{braket_1}\\n\")\n",
    "print(f\"ket_bra_1:\\n{ket_bra_1}\\n\")\n",
    "print(f\"bra_1ket_0:\\n{bra_1ket_0}\\n\")\n",
    "print(f\"ket_0bra_1:\\n{ket_0bra_1}\\n\")"
   ]
  },
  {
   "cell_type": "code",
   "execution_count": 8,
   "metadata": {},
   "outputs": [
    {
     "name": "stdout",
     "output_type": "stream",
     "text": [
      "[[0]\n",
      " [1]]\n",
      "\n",
      "[[0 1 0]\n",
      " [1 0 1]]\n",
      "\n",
      "[[1]\n",
      " [0]]\n",
      "\n",
      "[[1]\n",
      " [0]]\n",
      "\n"
     ]
    }
   ],
   "source": [
    "# M∣b⟩=(∑∣f(a)⟩⟨a∣)∣b⟩ = ∑∣f(a)⟩⟨a∣b⟩ = ∣f(b)⟩\n",
    "\n",
    "# ∑ = {1, 2, 3}\n",
    "\n",
    "# ∣a⟩1\n",
    "cat_a1 = np.array([[1],\n",
    "\t\t\t\t   [0],\n",
    "\t\t\t\t   [0]])\n",
    "\n",
    "# ⟨a∣1\n",
    "bra_a1 = np.array([[1, 0, 0]])\n",
    "\n",
    "# ∣a⟩2\n",
    "cat_a2 = np.array([[0],\n",
    "\t\t\t\t   [1],\n",
    "\t\t\t\t   [0]])\n",
    "\n",
    "cat_b = cat_a2 # Arbitrary choice\n",
    "\n",
    "# ⟨a∣2\n",
    "bra_a2 = np.array([[0, 1, 0]])\n",
    "\n",
    "# ∣a⟩3\n",
    "cat_a3 = np.array([[0],\n",
    "\t\t\t\t   [0],\n",
    "\t\t\t\t   [1]])\n",
    "\n",
    "# ⟨a∣3\n",
    "bra_a3 = np.array([[0, 0, 1]])\n",
    "\n",
    "# M\n",
    "M = np.array([[0, 1, 0],\n",
    "\t\t\t  [1, 0, 1]])\n",
    "\n",
    "# M∣a⟩=∣f(a)⟩\n",
    "print(f\"{np.dot(M, cat_a1)}\\n\")\n",
    "\n",
    "# M = ∑∣f(a)⟩⟨a∣\n",
    "M = np.dot(np.dot(M, cat_a1), bra_a1) + \\\n",
    "\tnp.dot(np.dot(M, cat_a2), bra_a2) + \\\n",
    "\tnp.dot(np.dot(M, cat_a3), bra_a3)\n",
    "print(f\"{M}\\n\")\n",
    "\n",
    "# ∣f(b)⟩ = ∑∣f(a)⟩⟨a∣b⟩\n",
    "\n",
    "fb = np.dot(np.dot(M, cat_a1), np.dot(bra_a1, cat_b)) + \\\n",
    "\t np.dot(np.dot(M, cat_a2), np.dot(bra_a2, cat_b)) + \\\n",
    "\t np.dot(np.dot(M, cat_a3), np.dot(bra_a3, cat_b))\n",
    "print(f\"{fb}\\n\")\n",
    "\n",
    "# M∣b⟩=(∑∣f(a)⟩⟨a∣)∣b⟩\n",
    "Mb = np.dot(M, cat_b)\n",
    "print(f\"{Mb}\\n\")\n",
    "\n",
    "# M∣b⟩=(∑∣f(a)⟩⟨a∣)∣b⟩ = ∑∣f(a)⟩⟨a∣b⟩ = ∣f(b)⟩"
   ]
  },
  {
   "cell_type": "code",
   "execution_count": 5,
   "metadata": {},
   "outputs": [
    {
     "name": "stdout",
     "output_type": "stream",
     "text": [
      "[[1.]\n",
      " [0.]]\n",
      "\n",
      "[[0.5]\n",
      " [0.5]]\n",
      "\n"
     ]
    }
   ],
   "source": [
    "prob_op = np.array([[1, 1/2],\n",
    "\t\t\t\t\t[0, 1/2]])\n",
    "\n",
    "bit_0 = np.array([[1],\n",
    "\t\t\t\t [0]])\n",
    "\n",
    "bit_1 = np.array([[0],\n",
    "\t\t\t\t [1]])\n",
    "\n",
    "first_op = np.dot(prob_op, bit_0)\n",
    "second_op = np.dot(prob_op, bit_1)\n",
    "\n",
    "print(f\"{first_op}\\n\")\n",
    "print(f\"{second_op}\\n\")"
   ]
  },
  {
   "cell_type": "code",
   "execution_count": 6,
   "metadata": {},
   "outputs": [
    {
     "name": "stdout",
     "output_type": "stream",
     "text": [
      "Vector: [1 2 2]\n",
      "Norm of the vector: 3.0\n"
     ]
    }
   ],
   "source": [
    "# Define a vector\n",
    "vector = np.array([1, 2, 2])\n",
    "\n",
    "# Calculate the norm of the vector\n",
    "norm = np.linalg.norm(vector)\n",
    "\n",
    "print(\"Vector:\", vector)\n",
    "print(\"Norm of the vector:\", norm)"
   ]
  },
  {
   "cell_type": "code",
   "execution_count": 7,
   "metadata": {},
   "outputs": [
    {
     "name": "stdout",
     "output_type": "stream",
     "text": [
      "[[ 0.33333333+0.66666667j]\n",
      " [-0.66666667+0.j        ]]\n"
     ]
    }
   ],
   "source": [
    "bit_0 = np.array([[1],\n",
    "\t\t\t\t [0]])\n",
    "\n",
    "bit_1 = np.array([[0],\n",
    "\t\t\t\t [1]])\n",
    "\n",
    "q_bit_state = ((1 + 2j) / 3) * bit_0 - (2 / 3) * bit_1\n",
    "\n",
    "print(q_bit_state)"
   ]
  },
  {
   "cell_type": "code",
   "execution_count": 8,
   "metadata": {},
   "outputs": [
    {
     "name": "stdout",
     "output_type": "stream",
     "text": [
      "[[ 0.33+0.67j]\n",
      " [-0.67+0.j  ]]\n",
      "\n",
      "[[ 0.33-0.67j]\n",
      " [-0.67-0.j  ]]\n",
      "\n",
      "[[ 0.33-0.67j -0.67-0.j  ]]\n",
      "\n"
     ]
    }
   ],
   "source": [
    "# Define your vector as a NumPy array\n",
    "vector = np.array([[(1+2j)/3], \n",
    "\t\t\t\t   [-2/3]])\n",
    "\n",
    "# Calculate the conjugate-transpose\n",
    "conjugate = np.conjugate(vector)\n",
    "conjugate_transpose = conjugate.T\n",
    "\n",
    "np.set_printoptions(precision=2)\n",
    "print(f\"{vector}\\n\")\n",
    "print(f\"{conjugate}\\n\")\n",
    "print(f\"{conjugate_transpose}\\n\")"
   ]
  },
  {
   "cell_type": "code",
   "execution_count": 9,
   "metadata": {},
   "outputs": [
    {
     "name": "stdout",
     "output_type": "stream",
     "text": [
      "[[1]\n",
      " [2]\n",
      " [3]]\n"
     ]
    }
   ],
   "source": [
    "vec_1 = np.array([[1],\n",
    "\t\t\t\t  [0],\n",
    "\t\t\t\t  [0]])\n",
    "\n",
    "vec_2 = np.array([[0],\n",
    "\t\t\t\t  [2],\n",
    "\t\t\t\t  [0]])\n",
    "\n",
    "vec_3 = np.array([[0],\n",
    "\t\t\t\t  [0],\n",
    "\t\t\t\t  [3]])\n",
    "\n",
    "print(vec_1 + vec_2 + vec_3)"
   ]
  },
  {
   "cell_type": "code",
   "execution_count": 12,
   "metadata": {},
   "outputs": [
    {
     "name": "stdout",
     "output_type": "stream",
     "text": [
      "2.8030595529069404\n"
     ]
    }
   ],
   "source": [
    "# Some error I dont know why\n",
    "\n",
    "list = []\n",
    "number = 0\n",
    "for i in range(1, 11, 1):\n",
    "\tnumber = number + i/math.sqrt(385)\n",
    "\n",
    "print(number)"
   ]
  },
  {
   "cell_type": "code",
   "execution_count": 25,
   "metadata": {},
   "outputs": [
    {
     "name": "stdout",
     "output_type": "stream",
     "text": [
      "[[1]]\n",
      "\n",
      "\n",
      "[[1 0]\n",
      " [0 0]]\n"
     ]
    }
   ],
   "source": [
    "ket_0 = np.array([[1],\n",
    "\t\t\t\t  [0]])\n",
    "\n",
    "ket_1 = np.array([[0],\n",
    "\t\t\t\t  [1]])\n",
    "\n",
    "bra_0 = np.array([[1, 0]])\n",
    "\n",
    "bra_1 = np.array([[0, 1]])\n",
    "\n",
    "print(np.dot(bra_0, ket_0))\n",
    "print(\"\\n\")\n",
    "print(np.dot(ket_0, bra_0))"
   ]
  }
 ],
 "metadata": {
  "kernelspec": {
   "display_name": "Python 3",
   "language": "python",
   "name": "python3"
  },
  "language_info": {
   "codemirror_mode": {
    "name": "ipython",
    "version": 3
   },
   "file_extension": ".py",
   "mimetype": "text/x-python",
   "name": "python",
   "nbconvert_exporter": "python",
   "pygments_lexer": "ipython3",
   "version": "3.8.10"
  }
 },
 "nbformat": 4,
 "nbformat_minor": 2
}
