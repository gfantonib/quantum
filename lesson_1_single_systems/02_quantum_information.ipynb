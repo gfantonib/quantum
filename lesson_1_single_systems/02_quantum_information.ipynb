{
 "cells": [
  {
   "cell_type": "markdown",
   "metadata": {},
   "source": [
    "[IBM Quantum Learning](https://learning.quantum.ibm.com/)\\\n",
    "[Basics of quantum information](https://learning.quantum.ibm.com/course/basics-of-quantum-information)\\\n",
    "[Single systems](https://learning.quantum.ibm.com/course/basics-of-quantum-information/single-systems)\n"
   ]
  },
  {
   "cell_type": "code",
   "execution_count": 1,
   "metadata": {},
   "outputs": [],
   "source": [
    "import numpy as np\n",
    "import math"
   ]
  },
  {
   "cell_type": "markdown",
   "metadata": {},
   "source": [
    "## Quantum information"
   ]
  },
  {
   "cell_type": "markdown",
   "metadata": {},
   "source": [
    "### Quantum state vectors\n",
    "\n",
    "A quantum state of a system is represented by a column vector, similar to probabilistic states. As before, the indices of the vector label the classical states of the system. Vectors representing quantum states are characterized by these two properties:\n",
    "\n",
    "1. The entries of a quantum state vector are complex numbers.\n",
    "2. The sum of the absolute values squared of the entries of a quantum state vector is 1.\n",
    "\n",
    "Any speedup from a quantum computer, or improvement in a communication protocol, ultimately derives from these simple mathematical changes.\n",
    "\n",
    "It is quite common to use the notation \n",
    "$\\left|\\psi\\right\\rangle$, or other names in place of \n",
    "$\\psi$, to refer to an arbitrary vector that may not necessarily be a standard basis vector.\n",
    "\n",
    "\n"
   ]
  },
  {
   "cell_type": "code",
   "execution_count": 2,
   "metadata": {},
   "outputs": [
    {
     "name": "stdout",
     "output_type": "stream",
     "text": [
      "row_vector:\n",
      " [[1 2 2]]\n",
      "Norm of the row_vector: 3.0\n",
      "\n",
      "\n",
      "column_vector:\n",
      " [[1]\n",
      " [2]\n",
      " [2]]\n",
      "Norm of the column_vector: 3.0\n"
     ]
    }
   ],
   "source": [
    "# Calculating the norm of a vector\n",
    "\n",
    "# Define a row_vector\n",
    "row_vector = np.array([[1, 2, 2]])\n",
    "\n",
    "# Calculate the norm t way to represent of the row_vector\n",
    "row_norm = np.linalg.norm(row_vector)\n",
    "\n",
    "# Define a column_vector\n",
    "column_vector = np.array([[1], \n",
    "\t\t\t\t\t\t  [2], \n",
    "\t\t\t\t\t\t  [2]])\n",
    "\n",
    "# Calculate the norm of the column_vector\n",
    "column_norm = np.linalg.norm(column_vector)\n",
    "\n",
    "print(\"row_vector:\\n\", row_vector)\n",
    "print(\"Norm of the row_vector:\", row_norm)\n",
    "print(\"\\n\")\n",
    "print(\"column_vector:\\n\", column_vector)\n",
    "print(\"Norm of the column_vector:\", column_norm)"
   ]
  },
  {
   "cell_type": "code",
   "execution_count": 3,
   "metadata": {},
   "outputs": [],
   "source": [
    "# Set precision to all np matrix\n",
    "np.set_printoptions(precision=2)"
   ]
  },
  {
   "cell_type": "code",
   "execution_count": 4,
   "metadata": {},
   "outputs": [
    {
     "name": "stdout",
     "output_type": "stream",
     "text": [
      "[[ 0.33+0.67j]\n",
      " [-0.67+0.j  ]]\n",
      "1.0\n"
     ]
    }
   ],
   "source": [
    "# Quantum column vector with complex numbers\n",
    "\n",
    "bit_0 = np.array([[1],\n",
    "\t\t\t\t [0]])\n",
    "\n",
    "bit_1 = np.array([[0],\n",
    "\t\t\t\t [1]])\n",
    "\n",
    "q_bit_state = ((1 + 2j) / 3) * bit_0 - (2 / 3) * bit_1\n",
    "\n",
    "print(q_bit_state)\n",
    "print(np.linalg.norm(q_bit_state))"
   ]
  },
  {
   "cell_type": "code",
   "execution_count": 5,
   "metadata": {},
   "outputs": [
    {
     "name": "stdout",
     "output_type": "stream",
     "text": [
      "[[ 0.33+0.67j]\n",
      " [-0.67+0.j  ]]\n",
      "\n",
      "[[ 0.33-0.67j]\n",
      " [-0.67-0.j  ]]\n",
      "\n",
      "[[ 0.33-0.67j -0.67-0.j  ]]\n",
      "\n"
     ]
    }
   ],
   "source": [
    "# Define your vector as a NumPy array\n",
    "vector = np.array([[(1+2j)/3], \n",
    "\t\t\t\t   [-2/3]])\n",
    "\n",
    "# Calculate the conjugate-transpose\n",
    "conjugate = np.conjugate(vector)\n",
    "conjugate_transpose = conjugate.T\n",
    "\n",
    "print(f\"{vector}\\n\")\n",
    "print(f\"{conjugate}\\n\")\n",
    "print(f\"{conjugate_transpose}\\n\")"
   ]
  },
  {
   "cell_type": "code",
   "execution_count": 7,
   "metadata": {},
   "outputs": [
    {
     "name": "stdout",
     "output_type": "stream",
     "text": [
      "[[1]\n",
      " [2]\n",
      " [3]]\n"
     ]
    }
   ],
   "source": [
    "# Just summing three vectors\n",
    "\n",
    "vec_1 = np.array([[1],\n",
    "\t\t\t\t  [0],\n",
    "\t\t\t\t  [0]])\n",
    "\n",
    "vec_2 = np.array([[0],\n",
    "\t\t\t\t  [2],\n",
    "\t\t\t\t  [0]])\n",
    "\n",
    "vec_3 = np.array([[0],\n",
    "\t\t\t\t  [0],\n",
    "\t\t\t\t  [3]])\n",
    "\n",
    "print(vec_1 + vec_2 + vec_3)"
   ]
  },
  {
   "cell_type": "code",
   "execution_count": null,
   "metadata": {},
   "outputs": [
    {
     "name": "stdout",
     "output_type": "stream",
     "text": [
      "1.0\n"
     ]
    }
   ],
   "source": [
    "# (1/385) * Σ(k=0 to 9) (k+1)|k⟩\n",
    "\n",
    "list = []\n",
    "number = 0\n",
    "for i in range(1, 11, 1):\n",
    "\tnumber = i * (1/math.sqrt(385))\n",
    "\tlist.append(number)\n",
    "\n",
    "vector = np.array(list)\n",
    "print(np.linalg.norm(vector))"
   ]
  },
  {
   "cell_type": "markdown",
   "metadata": {},
   "source": [
    "### Measuring quantum states\n",
    "Similar to the probabilistic setting, when a system in quantum state is measured, the observer performing the measurement won't see a quantum state vector, but rather some classical state. In this sense, measurements act as the interface between quantum and classical information, through which classical information is extracted from quantum states.\n",
    "For example, measuring the plus state\n",
    "\n",
    "$$ \n",
    "|+\\rangle = \\frac{1}{\\sqrt{2}}|0\\rangle + \\frac{1}{\\sqrt{2}}|1\\rangle\n",
    "$$"
   ]
  },
  {
   "cell_type": "code",
   "execution_count": null,
   "metadata": {},
   "outputs": [
    {
     "name": "stdout",
     "output_type": "stream",
     "text": [
      "bra_0:\n",
      " [[1 0]]\n",
      "ket_plus:\n",
      " [[0.70710678]\n",
      " [0.70710678]]\n",
      "pr_0_sqrt:\n",
      " 0.7071067811865475\n",
      "pr_0:\n",
      " 0.4999999999999999\n",
      "\n",
      "\n",
      "bra_1:\n",
      " [[0 1]]\n",
      "ket_plus:\n",
      " [[0.70710678]\n",
      " [0.70710678]]\n",
      "pr_sqrt:\n",
      " 0.7071067811865475\n",
      "pr_1:\n",
      " 0.4999999999999999\n"
     ]
    }
   ],
   "source": [
    "# Pr(outcome is 0) = |⟨0|+⟩|²\n",
    "bra_0 = np.array([[1, 0]])\n",
    "ket_plus = np.array([[1], [1]]) / math.sqrt(2)\n",
    "print('bra_0:\\n', bra_0)\n",
    "print('ket_plus:\\n', ket_plus)\n",
    "pr_0_sqrt = np.linalg.norm(np.dot(bra_0, ket_plus))\n",
    "print('pr_0_sqrt:\\n', pr_0_sqrt)\n",
    "pr_0 = pr_0_sqrt ** 2\n",
    "print('pr_0:\\n', pr_0)\n",
    "\n",
    "print('\\n')\n",
    "\n",
    "# Pr(outcome is 1) = |⟨1|+⟩|²\n",
    "bra_1 = np.array([[0, 1]])\n",
    "ket_plus = np.array([[1], [1]]) / math.sqrt(2)\n",
    "print('bra_1:\\n', bra_1)\n",
    "print('ket_plus:\\n', ket_plus)\n",
    "pr_1_sqrt = np.linalg.norm(np.dot(bra_1, ket_plus))\n",
    "print('pr_sqrt:\\n', pr_1_sqrt)\n",
    "pr_1 = pr_1_sqrt ** 2\n",
    "print('pr_1:\\n', pr_1)\n"
   ]
  },
  {
   "cell_type": "markdown",
   "metadata": {},
   "source": [
    "As a final example, measuring the state\n",
    "\n",
    "$$\n",
    "\n",
    "|ψ\\rangle = \\frac{1+2i}{3}|0\\rangle - \\frac{2}{3}|1\\rangle\n",
    "\n",
    "$$\n",
    "\n",
    "has probabilities given by\n"
   ]
  },
  {
   "cell_type": "code",
   "execution_count": null,
   "metadata": {},
   "outputs": [
    {
     "name": "stdout",
     "output_type": "stream",
     "text": [
      "bra_0:\n",
      " [[1 0]]\n",
      "psi:\n",
      " [[ 0.33333333+0.66666667j]\n",
      " [-0.66666667+0.j        ]]\n",
      "pr_0_sqrt:\n",
      " 0.7453559924999299\n",
      "pr_0:\n",
      " 0.5555555555555556\n",
      "\n",
      "\n",
      "bra_1:\n",
      " [[0 1]]\n",
      "pr_sqrt:\n",
      " 0.6666666666666666\n",
      "pr_1:\n",
      " 0.4444444444444444\n"
     ]
    }
   ],
   "source": [
    "# Pr(outcome is 0) = |⟨0|ψ⟩|²\n",
    "bra_0 = np.array([[1, 0]])\n",
    "psi = np.array([[1+2j], [-2]]) / 3\n",
    "print('bra_0:\\n', bra_0)\n",
    "print('psi:\\n', psi)\n",
    "pr_0_sqrt = np.linalg.norm(np.dot(bra_0, psi))\n",
    "print('pr_0_sqrt:\\n', pr_0_sqrt)\n",
    "pr_0 = pr_0_sqrt ** 2\n",
    "print('pr_0:\\n', pr_0)\n",
    "\n",
    "print('\\n')\n",
    "\n",
    "# Pr(outcome is 1) = |⟨1|ψ⟩|²\n",
    "bra_1 = np.array([[0, 1]])\n",
    "print('bra_1:\\n', bra_1)\n",
    "pr_1_sqrt = np.linalg.norm(np.dot(bra_1, psi))\n",
    "print('pr_sqrt:\\n', pr_1_sqrt)\n",
    "pr_1 = pr_1_sqrt ** 2\n",
    "print('pr_1:\\n', pr_1)\n"
   ]
  },
  {
   "cell_type": "markdown",
   "metadata": {},
   "source": [
    "### Unitary operations\n",
    "\n",
    "Similar to the probabilistic setting, operations on quantum states are linear mapping — but rather than being stochastic matrices as in the classical case, operations on quantum state vectors are represented by *unitary matrices*.\n",
    "\n",
    "\n",
    "\n",
    "$$ UU^\\dagger = \\mathbb{I} $$\n",
    "\n",
    "$$ U^\\dagger U = \\mathbb{I} $$\n",
    "\n",
    "$ U^\\dagger $ is the *conjugate transpose* of $ U $, meaning the matrix obtained by transposing $ U $ and then taking the complex conjugate of each entry.\n",
    "\n",
    "$$ U^\\dagger = \\overline{U^T} $$\n",
    "\n",
    "\n",
    "\n"
   ]
  },
  {
   "cell_type": "code",
   "execution_count": null,
   "metadata": {},
   "outputs": [
    {
     "name": "stdout",
     "output_type": "stream",
     "text": [
      "[[ 0.71  0.71]\n",
      " [ 0.71 -0.71]]\n",
      "\n",
      "[[ 0.71  0.71]\n",
      " [ 0.71 -0.71]]\n",
      "\n",
      "[[ 0.71  0.71]\n",
      " [ 0.71 -0.71]]\n",
      "\n",
      "[[ 0.71  0.71]\n",
      " [ 0.71 -0.71]]\n",
      "\n"
     ]
    }
   ],
   "source": [
    "# Define your matrix as a NumPy array\n",
    "matrix = np.array([[1/math.sqrt(2), 1/math.sqrt(2)],\n",
    "\t\t\t\t   [1/math.sqrt(2), -1/math.sqrt(2)]])\n",
    "\n",
    "# Calculate the conjugate-transpose\n",
    "conjugate = np.conjugate(matrix)\n",
    "conjugate_transpose = conjugate.T\n",
    "inverse = np.linalg.inv(matrix)\n",
    "\n",
    "print(f\"{matrix}\\n\")\n",
    "print(f\"{conjugate}\\n\")\n",
    "print(f\"{conjugate_transpose}\\n\")\n",
    "print(f\"{inverse}\\n\")"
   ]
  },
  {
   "cell_type": "markdown",
   "metadata": {},
   "source": [
    "The condition that $U$ is unitary is equivalent to the condition that multiplication by $U$ does not change the Euclidean norm of any vector. That is, an $n \\times n$ matrix $U$ is unitary if and only if $\\| U \\left| \\psi \\right\\rangle \\| = \\| \\left| \\psi \\right\\rangle \\|$ for every $n$-dimensional column vector $\\left| \\psi \\right\\rangle$ with complex number entries.\n"
   ]
  },
  {
   "cell_type": "markdown",
   "metadata": {},
   "source": [
    "https://learning.quantum.ibm.com/course/basics-of-quantum-information/single-systems#important-examples-of-unitary-operations-on-qubits"
   ]
  }
 ],
 "metadata": {
  "kernelspec": {
   "display_name": "Python 3",
   "language": "python",
   "name": "python3"
  },
  "language_info": {
   "codemirror_mode": {
    "name": "ipython",
    "version": 3
   },
   "file_extension": ".py",
   "mimetype": "text/x-python",
   "name": "python",
   "nbconvert_exporter": "python",
   "pygments_lexer": "ipython3",
   "version": "3.8.10"
  }
 },
 "nbformat": 4,
 "nbformat_minor": 2
}
