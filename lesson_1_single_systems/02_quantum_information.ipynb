{
 "cells": [
  {
   "cell_type": "markdown",
   "metadata": {},
   "source": [
    "IBM Quantum Learning\\\n",
    "Basics of quantum information\\\n",
    "[Single systems](https://learning.quantum.ibm.com/course/basics-of-quantum-information/single-systems)\n"
   ]
  },
  {
   "cell_type": "code",
   "execution_count": 57,
   "metadata": {},
   "outputs": [],
   "source": [
    "import numpy as np\n",
    "import math"
   ]
  },
  {
   "cell_type": "markdown",
   "metadata": {},
   "source": [
    "# Classical information"
   ]
  },
  {
   "cell_type": "markdown",
   "metadata": {},
   "source": [
    "### Classical states and probability vectors\n",
    "\n",
    "Give a system that stores information. This system can be in **one** of a finite number of *classical states* at each instant — a configuration that can be recognized and discribed unambiguously.\n",
    "\n",
    "Starting point: Let's define a bit to be a system that has classical states 0 and 1.\n",
    "\n",
    "<< Generalization >> \n",
    "Let us give the name **X** to the system being considered, and let us use the symbol Σ to refer to the set of classical states of **X**. Example: If **X** is a bit, then \n",
    "Σ = {0,1}. In words, we'll refer to this set as the *binary alphabet*.\n",
    "\n",
    "Certainty vs Uncertain\n",
    "Taking **X** as a carrier of information, it may be sufficient to decribe it as simply being in one of its possible classical states. But often in information processing, our knowledge of **X** is uncertain, we represent our knowledge of the classical state of **X** by assigning probabilities to each classical state, resulting in a *probabilistic state*.\n",
    "\n",
    "A convinient way to represent a probabilistic state is by a column vector, we will refer to it as **probability vectors**.\n",
    "(3/4)\n",
    "(1/4)\n",
    "\n",
    "We can represent any probabilistic state through a column vector satisfying two properties:\n",
    "1. All entries of the vector are nonnegative real numbers.\n",
    "2. The sum of the entries is equal to 1. "
   ]
  },
  {
   "cell_type": "code",
   "execution_count": 58,
   "metadata": {},
   "outputs": [
    {
     "name": "stdout",
     "output_type": "stream",
     "text": [
      "[[0.75]\n",
      " [0.25]]\n"
     ]
    }
   ],
   "source": [
    "# Representation of the bit in state 0 and 1.\n",
    "# Building a simple probability vector.\n",
    "\n",
    "bit_0 = np.array([[1],\n",
    "\t\t\t\t  [0]])\n",
    "\n",
    "bit_1 = np.array([[0],\n",
    "\t\t\t      [1]])\n",
    "\n",
    "bit_0 = 3/4 * bit_0\n",
    "\n",
    "bit_1 = 1/4 * bit_1\n",
    "\n",
    "probability_vector = bit_0 + bit_1\n",
    "print(probability_vector)"
   ]
  },
  {
   "cell_type": "markdown",
   "metadata": {},
   "source": [
    "### Measuring probabilistic states"
   ]
  },
  {
   "cell_type": "markdown",
   "metadata": {},
   "source": [
    "Measure a system when it is in a probabilistic state. By measuring a system, we mean tah we look at the system and unambiguously recognize whatever classical state it is in. Measurement changes our knowledge of the system, and therefore changes the probabilistic state that we associate with that system. If we recognize that **X** is in the classical state *a* ∈ Σ. We denote the vector having a 1 in the entry corresponding to *a* and 0 for all other entries by ∣a⟩, this vector is read as \"ket a\".\n",
    "For example, assuming that the system we have in mind is a bit, the standard basis vectors arg given by"
   ]
  },
  {
   "cell_type": "markdown",
   "metadata": {},
   "source": [
    "∣0⟩\t=\t(1)\t\tand\t\t∣1⟩\t=\t(0)\n",
    "\t\t(0)\t\t\t\t\t\t(1)"
   ]
  },
  {
   "cell_type": "markdown",
   "metadata": {},
   "source": [
    "Any column vector is a linear combination over the classical states. By establishing the measrement properties of classical systems, the analogous behavior for quantum information might seem less unusual."
   ]
  },
  {
   "cell_type": "markdown",
   "metadata": {},
   "source": [
    "## Classical operations\n",
    "### Deterministic operations"
   ]
  },
  {
   "cell_type": "markdown",
   "metadata": {},
   "source": [
    "An operation is deterministic if the result is completely determined by the input without any element of chance or uncertainty. where each classical state a ∈ Σ is transformed into f(a) for some function *f* of the form f:Σ→Σ.\n",
    "The actions of deterministic operations on probabilistic states can be represented by matrix-vector multipliketion. The matrix *M* that represents a given function f:Σ→Σ is one that satisfies \n"
   ]
  },
  {
   "cell_type": "markdown",
   "metadata": {},
   "source": [
    "M∣a⟩ = ∣f(a)⟩"
   ]
  },
  {
   "cell_type": "markdown",
   "metadata": {},
   "source": [
    "for every a ∈ Σ. Such a matrix always exists and is unique.\n",
    "Matrices that represent deterministic operations always have exactly one 1 in each column, and 0 for all other entries."
   ]
  },
  {
   "cell_type": "code",
   "execution_count": 59,
   "metadata": {},
   "outputs": [
    {
     "name": "stdout",
     "output_type": "stream",
     "text": [
      "result_1: \n",
      "[[1]\n",
      " [0]]\n",
      "result_2: \n",
      "[[1]\n",
      " [0]]\n",
      "\n",
      "result_3: \n",
      "[[1]\n",
      " [0]]\n",
      "result_4: \n",
      "[[0]\n",
      " [1]]\n",
      "\n",
      "result_5: \n",
      "[[0]\n",
      " [1]]\n",
      "result_6: \n",
      "[[1]\n",
      " [0]]\n",
      "\n",
      "result_7: \n",
      "[[0]\n",
      " [1]]\n",
      "result_8: \n",
      "[[0]\n",
      " [1]]\n",
      "\n"
     ]
    }
   ],
   "source": [
    "# Applying a deterministic function (matrix) to each bit state. \n",
    "\n",
    "import numpy as np\n",
    "\n",
    "# |0>\n",
    "ket_0 = np.array([[1],\n",
    "\t\t\t\t  [0]])\n",
    "\n",
    "# |1>\n",
    "ket_1 = np.array([[0],\n",
    "\t\t\t\t  [1]])\n",
    "\n",
    "# f1(a) = 0\n",
    "m_1 = np.array([[1, 1],\n",
    "\t\t\t\t[0, 0]])\n",
    "\n",
    "# f2 (identity function): f2(a) = a\n",
    "m_2 = np.array([[1, 0],\n",
    "\t\t\t\t[0, 1]])\n",
    "\n",
    "# f3 (NOT function): f3(0) = 1 and f3(1) = 0\n",
    "m_3 = np.array([[0, 1],\n",
    "\t\t\t\t[1, 0]])\n",
    "\n",
    "# f4(a) = 1\n",
    "m_4 = np.array([[0, 0],\n",
    "\t\t\t\t[1, 1]])\n",
    "\n",
    "result_1 = np.dot(m_1, ket_0)\n",
    "result_2 = np.dot(m_1, ket_1)\n",
    "\n",
    "result_3 = np.dot(m_2, ket_0)\n",
    "result_4 = np.dot(m_2, ket_1)\n",
    "\n",
    "result_5 = np.dot(m_3, ket_0)\n",
    "result_6 = np.dot(m_3, ket_1)\n",
    "\n",
    "result_7 = np.dot(m_4, ket_0)\n",
    "result_8 = np.dot(m_4, ket_1)\n",
    "\n",
    "print(f\"result_1: \\n{result_1}\\nresult_2: \\n{result_2}\\n\")\n",
    "print(f\"result_3: \\n{result_3}\\nresult_4: \\n{result_4}\\n\")\n",
    "print(f\"result_5: \\n{result_5}\\nresult_6: \\n{result_6}\\n\")\n",
    "print(f\"result_7: \\n{result_7}\\nresult_8: \\n{result_8}\\n\")\n"
   ]
  },
  {
   "cell_type": "markdown",
   "metadata": {},
   "source": [
    "A convenient way to represent matrices..."
   ]
  },
  {
   "cell_type": "code",
   "execution_count": 60,
   "metadata": {},
   "outputs": [
    {
     "name": "stdout",
     "output_type": "stream",
     "text": [
      "braket_0:\n",
      "[[1]]\n",
      "\n",
      "ket_bra_0:\n",
      "[[1 0]\n",
      " [0 0]]\n",
      "\n",
      "braket_1:\n",
      "[[1]]\n",
      "\n",
      "ket_bra_1:\n",
      "[[0 0]\n",
      " [0 1]]\n",
      "\n",
      "bra_1ket_0:\n",
      "[[0]]\n",
      "\n",
      "ket_0bra_1:\n",
      "[[0 1]\n",
      " [0 0]]\n",
      "\n"
     ]
    }
   ],
   "source": [
    "# |a><b|; <a||b>\n",
    "\n",
    "bra_0 = [[1, 0]]\n",
    "\n",
    "ket_0 = [[1],\n",
    "\t\t [0]]\n",
    "\n",
    "bra_1 = [[0, 1]]\n",
    "\n",
    "ket_1 = [[0],\n",
    "\t\t [1]]\n",
    "\n",
    "braket_0 = np.dot(bra_0, ket_0)\n",
    "ket_bra_0 = np.dot(ket_0, bra_0)\n",
    "\n",
    "braket_1 = np.dot(bra_1, ket_1)\n",
    "ket_bra_1 = np.dot(ket_1, bra_1)\n",
    "\n",
    "bra_1ket_0 = np.dot(bra_1, ket_0)\n",
    "ket_0bra_1 = np.dot(ket_0, bra_1)\n",
    "\n",
    "print(f\"braket_0:\\n{braket_0}\\n\")\n",
    "print(f\"ket_bra_0:\\n{ket_bra_0}\\n\")\n",
    "print(f\"braket_1:\\n{braket_1}\\n\")\n",
    "print(f\"ket_bra_1:\\n{ket_bra_1}\\n\")\n",
    "print(f\"bra_1ket_0:\\n{bra_1ket_0}\\n\")\n",
    "print(f\"ket_0bra_1:\\n{ket_0bra_1}\\n\")"
   ]
  },
  {
   "cell_type": "markdown",
   "metadata": {},
   "source": [
    "Operating this sense unity:\n",
    "\n",
    "M∣b⟩=(∑∣f(a)⟩⟨a∣)∣b⟩ = ∑∣f(a)⟩⟨a∣b⟩ = ∣f(b)⟩"
   ]
  },
  {
   "cell_type": "code",
   "execution_count": 61,
   "metadata": {},
   "outputs": [
    {
     "name": "stdout",
     "output_type": "stream",
     "text": [
      "[[0]\n",
      " [1]]\n",
      "\n",
      "[[0 1 0]\n",
      " [1 0 1]]\n",
      "\n",
      "[[1]\n",
      " [0]]\n",
      "\n",
      "[[1]\n",
      " [0]]\n",
      "\n"
     ]
    }
   ],
   "source": [
    "# M∣b⟩=(∑∣f(a)⟩⟨a∣)∣b⟩ = ∑∣f(a)⟩⟨a∣b⟩ = ∣f(b)⟩\n",
    "\n",
    "# ∑ = {1, 2, 3}\n",
    "\n",
    "# ∣a⟩1\n",
    "cat_a1 = np.array([[1],\n",
    "\t\t\t\t   [0],\n",
    "\t\t\t\t   [0]])\n",
    "\n",
    "# ⟨a∣1\n",
    "bra_a1 = np.array([[1, 0, 0]])\n",
    "\n",
    "# ∣a⟩2\n",
    "cat_a2 = np.array([[0],\n",
    "\t\t\t\t   [1],\n",
    "\t\t\t\t   [0]])\n",
    "\n",
    "cat_b = cat_a2 # Arbitrary choice\n",
    "\n",
    "# ⟨a∣2\n",
    "bra_a2 = np.array([[0, 1, 0]])\n",
    "\n",
    "# ∣a⟩3\n",
    "cat_a3 = np.array([[0],\n",
    "\t\t\t\t   [0],\n",
    "\t\t\t\t   [1]])\n",
    "\n",
    "# ⟨a∣3\n",
    "bra_a3 = np.array([[0, 0, 1]])\n",
    "\n",
    "# M\n",
    "M = np.array([[0, 1, 0],\n",
    "\t\t\t  [1, 0, 1]])\n",
    "\n",
    "# M∣a⟩=∣f(a)⟩\n",
    "print(f\"{np.dot(M, cat_a1)}\\n\")\n",
    "\n",
    "# M = ∑∣f(a)⟩⟨a∣\n",
    "M = np.dot(np.dot(M, cat_a1), bra_a1) + \\\n",
    "\tnp.dot(np.dot(M, cat_a2), bra_a2) + \\\n",
    "\tnp.dot(np.dot(M, cat_a3), bra_a3)\n",
    "print(f\"{M}\\n\")\n",
    "\n",
    "# ∣f(b)⟩ = ∑∣f(a)⟩⟨a∣b⟩\n",
    "fb = np.dot(np.dot(M, cat_a1), np.dot(bra_a1, cat_b)) + \\\n",
    "\t np.dot(np.dot(M, cat_a2), np.dot(bra_a2, cat_b)) + \\\n",
    "\t np.dot(np.dot(M, cat_a3), np.dot(bra_a3, cat_b))\n",
    "print(f\"{fb}\\n\")\n",
    "\n",
    "# M∣b⟩=(∑∣f(a)⟩⟨a∣)∣b⟩\n",
    "Mb = np.dot(M, cat_b)\n",
    "print(f\"{Mb}\\n\")\n",
    "\n",
    "# M∣b⟩=(∑∣f(a)⟩⟨a∣)∣b⟩ = ∑∣f(a)⟩⟨a∣b⟩ = ∣f(b)⟩"
   ]
  },
  {
   "cell_type": "markdown",
   "metadata": {},
   "source": [
    "\n",
    "### Probabilistic operations and stochastic matrices\n",
    "\n",
    "Stochastic matrices are matrices satisfying these two properties:\n",
    "\n",
    "1. All entries are nonnegative real numbers.\n",
    "2. The entries in every column sum to 1.\n",
    "\n",
    "Equivalently, stochastic matrices are matrices whose columns all form probability vectors."
   ]
  },
  {
   "cell_type": "code",
   "execution_count": 62,
   "metadata": {},
   "outputs": [
    {
     "name": "stdout",
     "output_type": "stream",
     "text": [
      "[[1.]\n",
      " [0.]]\n",
      "\n",
      "[[0.5]\n",
      " [0.5]]\n",
      "\n"
     ]
    }
   ],
   "source": [
    "M_prop = np.array([[1, 1/2],\n",
    "\t\t\t       [0, 1/2]])\n",
    "\n",
    "bit_0 = np.array([[1],\n",
    "\t\t\t\t  [0]])\n",
    "\n",
    "bit_1 = np.array([[0],\n",
    "\t\t\t\t  [1]])\n",
    "\n",
    "first_op = np.dot(M_prop, bit_0)\n",
    "second_op = np.dot(M_prop, bit_1)\n",
    "\n",
    "print(f\"{first_op}\\n\")\n",
    "print(f\"{second_op}\\n\")"
   ]
  },
  {
   "cell_type": "markdown",
   "metadata": {},
   "source": [
    "# Quantum information"
   ]
  },
  {
   "cell_type": "markdown",
   "metadata": {},
   "source": [
    "### Quantum state vectors\n",
    "\n",
    "A quantum state of a system is represented by a column vector, similar to probabilistic states. As before, the indices of the vector label the classical states of the system. Vectors representing quantum states are characterized by these two properties:\n",
    "\n",
    "1. The entries of a quantum state vector are complex numbers.\n",
    "2. The sum of the absolute values squared of the entries of a quantum state vector is 1"
   ]
  },
  {
   "cell_type": "code",
   "execution_count": 63,
   "metadata": {},
   "outputs": [
    {
     "name": "stdout",
     "output_type": "stream",
     "text": [
      "row_vector:\n",
      " [[1 2 2]]\n",
      "Norm of the row_vector: 3.0\n",
      "\n",
      "\n",
      "column_vector:\n",
      " [[1]\n",
      " [2]\n",
      " [2]]\n",
      "Norm of the column_vector: 3.0\n"
     ]
    }
   ],
   "source": [
    "# Calculating the norm of a vector\n",
    "\n",
    "# Define a row_vector\n",
    "row_vector = np.array([[1, 2, 2]])\n",
    "\n",
    "# Calculate the norm t way to represent of the row_vector\n",
    "norm = np.linalg.norm(row_vector)\n",
    "\n",
    "# Define a column_vector\n",
    "column_vector = np.array([[1], \n",
    "\t\t\t\t\t\t  [2], \n",
    "\t\t\t\t\t\t  [2]])\n",
    "\n",
    "# Calculate the norm of the column_vector\n",
    "norm = np.linalg.norm(column_vector)\n",
    "\n",
    "print(\"row_vector:\\n\", row_vector)\n",
    "print(\"Norm of the row_vector:\", norm)\n",
    "print(\"\\n\")\n",
    "print(\"column_vector:\\n\", column_vector)\n",
    "print(\"Norm of the column_vector:\", norm)"
   ]
  },
  {
   "cell_type": "code",
   "execution_count": 64,
   "metadata": {},
   "outputs": [],
   "source": [
    "# Set precision to all np matrix\n",
    "np.set_printoptions(precision=2)"
   ]
  },
  {
   "cell_type": "code",
   "execution_count": 65,
   "metadata": {},
   "outputs": [
    {
     "name": "stdout",
     "output_type": "stream",
     "text": [
      "[[ 0.33+0.67j]\n",
      " [-0.67+0.j  ]]\n",
      "1.0\n"
     ]
    }
   ],
   "source": [
    "# Quantum column vector with complex numbers\n",
    "\n",
    "bit_0 = np.array([[1],\n",
    "\t\t\t\t [0]])\n",
    "\n",
    "bit_1 = np.array([[0],\n",
    "\t\t\t\t [1]])\n",
    "\n",
    "q_bit_state = ((1 + 2j) / 3) * bit_0 - (2 / 3) * bit_1\n",
    "\n",
    "print(q_bit_state)\n",
    "print(np.linalg.norm(q_bit_state))"
   ]
  },
  {
   "cell_type": "code",
   "execution_count": 66,
   "metadata": {},
   "outputs": [
    {
     "name": "stdout",
     "output_type": "stream",
     "text": [
      "[[ 0.33+0.67j]\n",
      " [-0.67+0.j  ]]\n",
      "\n",
      "[[ 0.33-0.67j]\n",
      " [-0.67-0.j  ]]\n",
      "\n",
      "[[ 0.33-0.67j -0.67-0.j  ]]\n",
      "\n"
     ]
    }
   ],
   "source": [
    "# Define your vector as a NumPy array\n",
    "vector = np.array([[(1+2j)/3], \n",
    "\t\t\t\t   [-2/3]])\n",
    "\n",
    "# Calculate the conjugate-transpose\n",
    "conjugate = np.conjugate(vector)\n",
    "conjugate_transpose = conjugate.T\n",
    "\n",
    "print(f\"{vector}\\n\")\n",
    "print(f\"{conjugate}\\n\")\n",
    "print(f\"{conjugate_transpose}\\n\")"
   ]
  },
  {
   "cell_type": "code",
   "execution_count": 67,
   "metadata": {},
   "outputs": [
    {
     "name": "stdout",
     "output_type": "stream",
     "text": [
      "[[1]\n",
      " [2]\n",
      " [3]]\n"
     ]
    }
   ],
   "source": [
    "# Just summing three vectors\n",
    "\n",
    "vec_1 = np.array([[1],\n",
    "\t\t\t\t  [0],\n",
    "\t\t\t\t  [0]])\n",
    "\n",
    "vec_2 = np.array([[0],\n",
    "\t\t\t\t  [2],\n",
    "\t\t\t\t  [0]])\n",
    "\n",
    "vec_3 = np.array([[0],\n",
    "\t\t\t\t  [0],\n",
    "\t\t\t\t  [3]])\n",
    "\n",
    "print(vec_1 + vec_2 + vec_3)"
   ]
  },
  {
   "cell_type": "code",
   "execution_count": 68,
   "metadata": {},
   "outputs": [
    {
     "name": "stdout",
     "output_type": "stream",
     "text": [
      "1.0\n"
     ]
    }
   ],
   "source": [
    "# (1/385) * Σ(k=0 to 9) (k+1)|k⟩\n",
    "\n",
    "list = []\n",
    "number = 0\n",
    "for i in range(1, 11, 1):\n",
    "\tnumber = i * (1/math.sqrt(385))\n",
    "\tlist.append(number)\n",
    "\n",
    "vector = np.array(list)\n",
    "print(np.linalg.norm(vector))"
   ]
  },
  {
   "cell_type": "markdown",
   "metadata": {},
   "source": [
    "### Unitary operations"
   ]
  },
  {
   "cell_type": "code",
   "execution_count": 69,
   "metadata": {},
   "outputs": [
    {
     "name": "stdout",
     "output_type": "stream",
     "text": [
      "[[ 0.71  0.71]\n",
      " [ 0.71 -0.71]]\n",
      "\n",
      "[[ 0.71  0.71]\n",
      " [ 0.71 -0.71]]\n",
      "\n",
      "[[ 0.71  0.71]\n",
      " [ 0.71 -0.71]]\n",
      "\n",
      "[[ 0.71  0.71]\n",
      " [ 0.71 -0.71]]\n",
      "\n"
     ]
    }
   ],
   "source": [
    "# Define your matrix as a NumPy array\n",
    "matrix = np.array([[1/math.sqrt(2), 1/math.sqrt(2)],\n",
    "\t\t\t\t   [1/math.sqrt(2), -1/math.sqrt(2)]])\n",
    "\n",
    "# Calculate the conjugate-transpose\n",
    "conjugate = np.conjugate(matrix)\n",
    "conjugate_transpose = conjugate.T\n",
    "inverse = np.linalg.inv(matrix)\n",
    "\n",
    "print(f\"{matrix}\\n\")\n",
    "print(f\"{conjugate}\\n\")\n",
    "print(f\"{conjugate_transpose}\\n\")\n",
    "print(f\"{inverse}\\n\")"
   ]
  },
  {
   "cell_type": "code",
   "execution_count": 70,
   "metadata": {},
   "outputs": [
    {
     "name": "stdout",
     "output_type": "stream",
     "text": [
      "[[-2.   1. ]\n",
      " [ 1.5 -0.5]]\n",
      "\n",
      "[[1 3]\n",
      " [2 4]]\n",
      "\n",
      "[[1. 0.]\n",
      " [0. 1.]]\n",
      "\n",
      "[[ 5 11]\n",
      " [11 25]]\n",
      "\n"
     ]
    }
   ],
   "source": [
    "# Define your matrix as a NumPy array\n",
    "matrix = np.array([[1, 2],\n",
    "\t\t\t\t   [3, 4]])\n",
    "\n",
    "# Calculate the conjugate-transpose\n",
    "inverse = np.linalg.inv(matrix)\n",
    "transpose = matrix.T\n",
    "\n",
    "print(f\"{inverse}\\n\")\n",
    "print(f\"{transpose}\\n\")\n",
    "print(f\"{np.dot(matrix, inverse)}\\n\")\n",
    "print(f\"{np.dot(matrix, transpose)}\\n\")"
   ]
  },
  {
   "cell_type": "code",
   "execution_count": 71,
   "metadata": {},
   "outputs": [],
   "source": [
    "# Set printing options to suppress scientific notation\n",
    "np.set_printoptions(suppress=True)"
   ]
  },
  {
   "cell_type": "code",
   "execution_count": 72,
   "metadata": {},
   "outputs": [
    {
     "name": "stdout",
     "output_type": "stream",
     "text": [
      "[[ 0.71  0.71]\n",
      " [ 0.71 -0.71]]\n",
      "\n",
      "[[ 0.71  0.71]\n",
      " [ 0.71 -0.71]]\n",
      "\n",
      "[[ 1. -0.]\n",
      " [-0.  1.]]\n",
      "\n"
     ]
    }
   ],
   "source": [
    "# Define your matrix as a NumPy array\n",
    "matrix = np.array([[1/math.sqrt(2), 1/math.sqrt(2)],\n",
    "\t\t\t\t   [1/math.sqrt(2), -1/math.sqrt(2)]])\n",
    "\n",
    "# Calculate the conjugate-transpose\n",
    "transpose = matrix.T\n",
    "\n",
    "print(f\"{matrix}\\n\")\n",
    "print(f\"{transpose}\\n\")\n",
    "print(f\"{np.dot(matrix, transpose)}\\n\")"
   ]
  },
  {
   "cell_type": "markdown",
   "metadata": {},
   "source": [
    "The condition that U is unitary is equivalent to the condition that multiplication by U does not change the Euclidean norm of any vector. That is, an n×n matrix U is unitary if and only if ∥U∣ψ⟩∥=∥∣ψ⟩∥ for every n-dimensional column vector ∣ψ⟩ with complex number entries. "
   ]
  },
  {
   "cell_type": "code",
   "execution_count": 73,
   "metadata": {},
   "outputs": [
    {
     "name": "stdout",
     "output_type": "stream",
     "text": [
      "0.9999999999999999\n",
      "1.0\n"
     ]
    }
   ],
   "source": [
    "# Define your matrix as a NumPy array\n",
    "U = np.array([[1/math.sqrt(2), 1/math.sqrt(2)],\n",
    "\t\t\t\t   [1/math.sqrt(2), -1/math.sqrt(2)]])\n",
    "\n",
    "# Define ∣ψ⟩\n",
    "psi = np.array([[(1+2j)/3],\n",
    "\t\t\t   [-2/3]])\n",
    "\n",
    "print(np.linalg.norm(np.dot(U, psi)))\n",
    "print(np.linalg.norm(psi))"
   ]
  },
  {
   "cell_type": "markdown",
   "metadata": {},
   "source": [
    "## Qiskit examples"
   ]
  },
  {
   "cell_type": "markdown",
   "metadata": {},
   "source": [
    "Using 'matmul' instead of 'dot': it behaves the same for 2D array, but different for higher dimensions."
   ]
  },
  {
   "cell_type": "code",
   "execution_count": 74,
   "metadata": {},
   "outputs": [
    {
     "name": "stdout",
     "output_type": "stream",
     "text": [
      "[[1.]\n",
      " [0.]]\n",
      "\n",
      "[[0.5]\n",
      " [0.5]]\n",
      "\n"
     ]
    }
   ],
   "source": [
    "M_prop = np.array([[1, 1/2],\n",
    "\t\t\t       [0, 1/2]])\n",
    "\n",
    "bit_0 = np.array([[1],\n",
    "\t\t\t\t  [0]])\n",
    "\n",
    "bit_1 = np.array([[0],\n",
    "\t\t\t\t  [1]])\n",
    "\n",
    "first_op = np.matmul(M_prop, bit_0)\n",
    "second_op = np.matmul(M_prop, bit_1)\n",
    "\n",
    "print(f\"{first_op}\\n\")\n",
    "print(f\"{second_op}\\n\")"
   ]
  },
  {
   "cell_type": "code",
   "execution_count": 75,
   "metadata": {},
   "outputs": [],
   "source": [
    "from qiskit.quantum_info import Statevector\n",
    "from numpy import sqrt"
   ]
  },
  {
   "cell_type": "code",
   "execution_count": 76,
   "metadata": {},
   "outputs": [
    {
     "name": "stdout",
     "output_type": "stream",
     "text": [
      "State vectors u, v, and w have been defined.\n"
     ]
    }
   ],
   "source": [
    "u = Statevector([1 / sqrt(2), 1 / sqrt(2)])\n",
    "v = Statevector([(1 + 2.0j) / 3, -2 / 3])\n",
    "w = Statevector([1 / 3, 2 / 3])\n",
    "\n",
    "print(\"State vectors u, v, and w have been defined.\")"
   ]
  },
  {
   "cell_type": "code",
   "execution_count": 77,
   "metadata": {},
   "outputs": [
    {
     "data": {
      "text/latex": [
       "$$\\frac{\\sqrt{2}}{2} |0\\rangle+\\frac{\\sqrt{2}}{2} |1\\rangle$$"
      ],
      "text/plain": [
       "<IPython.core.display.Latex object>"
      ]
     },
     "metadata": {},
     "output_type": "display_data"
    },
    {
     "data": {
      "text/plain": [
       "[ 0.33+0.67j,-0.67+0.j  ]"
      ]
     },
     "metadata": {},
     "output_type": "display_data"
    }
   ],
   "source": [
    "display(u.draw(\"latex\"))\n",
    "display(v.draw(\"text\"))"
   ]
  },
  {
   "cell_type": "code",
   "execution_count": 78,
   "metadata": {},
   "outputs": [
    {
     "data": {
      "text/plain": [
       "True"
      ]
     },
     "metadata": {},
     "output_type": "display_data"
    },
    {
     "data": {
      "text/plain": [
       "False"
      ]
     },
     "metadata": {},
     "output_type": "display_data"
    }
   ],
   "source": [
    "display(u.is_valid())\n",
    "display(w.is_valid())"
   ]
  },
  {
   "cell_type": "markdown",
   "metadata": {},
   "source": [
    "Simulating measurements using Statevector\n"
   ]
  },
  {
   "cell_type": "code",
   "execution_count": 79,
   "metadata": {},
   "outputs": [],
   "source": [
    "from qiskit.visualization import plot_histogram"
   ]
  },
  {
   "cell_type": "code",
   "execution_count": 80,
   "metadata": {},
   "outputs": [
    {
     "name": "stdout",
     "output_type": "stream",
     "text": [
      "[[0.56]]\n"
     ]
    }
   ],
   "source": [
    "# Calculate the probability of the state vector to be 0:\n",
    "\n",
    "# Define plus\n",
    "bra_0 = np.array([[1, 0]])\n",
    "\n",
    "# Define ∣ψ⟩\n",
    "psi = np.array([[(1+2j)/3],\n",
    "\t\t\t   [-2/3]])\n",
    "\n",
    "print(np.matmul(bra_0, abs(psi))**2)"
   ]
  },
  {
   "cell_type": "code",
   "execution_count": 81,
   "metadata": {},
   "outputs": [
    {
     "data": {
      "text/latex": [
       "$$(\\frac{1}{3} + \\frac{2 i}{3}) |0\\rangle- \\frac{2}{3} |1\\rangle$$"
      ],
      "text/plain": [
       "<IPython.core.display.Latex object>"
      ]
     },
     "execution_count": 81,
     "metadata": {},
     "output_type": "execute_result"
    }
   ],
   "source": [
    "v = Statevector([(1 + 2.0j) / 3, -2 / 3])\n",
    "v.draw(\"latex\")"
   ]
  },
  {
   "cell_type": "code",
   "execution_count": 82,
   "metadata": {},
   "outputs": [
    {
     "data": {
      "text/plain": [
       "('1',\n",
       " Statevector([ 0.+0.j, -1.+0.j],\n",
       "             dims=(2,)))"
      ]
     },
     "execution_count": 82,
     "metadata": {},
     "output_type": "execute_result"
    }
   ],
   "source": [
    "v.measure()"
   ]
  },
  {
   "cell_type": "code",
   "execution_count": 83,
   "metadata": {},
   "outputs": [
    {
     "data": {
      "text/plain": [
       "{'0': 578, '1': 422}"
      ]
     },
     "metadata": {},
     "output_type": "display_data"
    },
    {
     "data": {
      "image/png": "[encoded data removed]",
      "text/plain": [
       "<Figure size 700x500 with 1 Axes>"
      ]
     },
     "execution_count": 83,
     "metadata": {},
     "output_type": "execute_result"
    }
   ],
   "source": [
    "statistics = v.sample_counts(1000)\n",
    "display(statistics)\n",
    "plot_histogram(statistics)"
   ]
  },
  {
   "cell_type": "code",
   "execution_count": 84,
   "metadata": {},
   "outputs": [
    {
     "name": "stdout",
     "output_type": "stream",
     "text": [
      "[[0.5]]\n"
     ]
    }
   ],
   "source": [
    "# Calculate the probability of the state vector to be 0:\n",
    "\n",
    "# Define plus\n",
    "bra_0 = np.array([[1, 0]])\n",
    "\n",
    "plus = np.array([[1/sqrt(2)],\n",
    "\t\t\t   [1/sqrt(2)]])\n",
    "\n",
    "print(np.matmul(bra_0, plus)**2)"
   ]
  },
  {
   "cell_type": "code",
   "execution_count": 85,
   "metadata": {},
   "outputs": [
    {
     "data": {
      "text/latex": [
       "$$\\frac{\\sqrt{2}}{2} |0\\rangle+\\frac{\\sqrt{2}}{2} |1\\rangle$$"
      ],
      "text/plain": [
       "<IPython.core.display.Latex object>"
      ]
     },
     "execution_count": 85,
     "metadata": {},
     "output_type": "execute_result"
    }
   ],
   "source": [
    "v = Statevector([1/sqrt(2), 1/sqrt(2)])\n",
    "v.draw(\"latex\")"
   ]
  },
  {
   "cell_type": "code",
   "execution_count": 86,
   "metadata": {},
   "outputs": [
    {
     "data": {
      "text/plain": [
       "('1',\n",
       " Statevector([0.+0.j, 1.+0.j],\n",
       "             dims=(2,)))"
      ]
     },
     "execution_count": 86,
     "metadata": {},
     "output_type": "execute_result"
    }
   ],
   "source": [
    "v.measure()"
   ]
  },
  {
   "cell_type": "code",
   "execution_count": 87,
   "metadata": {},
   "outputs": [
    {
     "data": {
      "text/plain": [
       "{'0': 490, '1': 510}"
      ]
     },
     "metadata": {},
     "output_type": "display_data"
    },
    {
     "data": {
      "image/png": "[encoded data removed]",
      "text/plain": [
       "<Figure size 700x500 with 1 Axes>"
      ]
     },
     "execution_count": 87,
     "metadata": {},
     "output_type": "execute_result"
    }
   ],
   "source": [
    "statistics = v.sample_counts(1000)\n",
    "display(statistics)\n",
    "plot_histogram(statistics)"
   ]
  },
  {
   "cell_type": "code",
   "execution_count": 88,
   "metadata": {},
   "outputs": [],
   "source": [
    "from qiskit.quantum_info import Operator"
   ]
  },
  {
   "cell_type": "markdown",
   "metadata": {},
   "source": [
    "Performing operations with Operator and Statevector\n"
   ]
  },
  {
   "cell_type": "code",
   "execution_count": 89,
   "metadata": {},
   "outputs": [
    {
     "data": {
      "text/plain": [
       "[ 0.85+0.35j,-0.35+0.15j]"
      ]
     },
     "execution_count": 89,
     "metadata": {},
     "output_type": "execute_result"
    }
   ],
   "source": [
    "from qiskit.quantum_info import Operator\n",
    "\n",
    "X = Operator([[0, 1], [1, 0]])\n",
    "Y = Operator([[0, -1.0j], [1.0j, 0]])\n",
    "Z = Operator([[1, 0], [0, -1]])\n",
    "H = Operator([[1 / sqrt(2), 1 / sqrt(2)], [1 / sqrt(2), -1 / sqrt(2)]])\n",
    "S = Operator([[1, 0], [0, 1.0j]])\n",
    "T = Operator([[1, 0], [0, (1 + 1.0j) / sqrt(2)]])\n",
    "\n",
    "v = Statevector([1, 0])\n",
    "\n",
    "v = v.evolve(H)\n",
    "v = v.evolve(T)\n",
    "v = v.evolve(H)\n",
    "v = v.evolve(T)\n",
    "v = v.evolve(Z)\n",
    "\n",
    "v.draw(\"text\")\n",
    "# v.draw(\"latex\")"
   ]
  },
  {
   "cell_type": "markdown",
   "metadata": {},
   "source": [
    "Looking ahead toward quantum circuits"
   ]
  },
  {
   "cell_type": "code",
   "execution_count": 90,
   "metadata": {},
   "outputs": [
    {
     "data": {
      "text/html": [
       "<pre style=\"word-wrap: normal;white-space: pre;background: #fff0;line-height: 1.1;font-family: &quot;Courier New&quot;,Courier,monospace\">   ┌───┐┌───┐┌───┐┌───┐┌───┐\n",
       "q: ┤ H ├┤ T ├┤ H ├┤ T ├┤ Z ├\n",
       "   └───┘└───┘└───┘└───┘└───┘</pre>"
      ],
      "text/plain": [
       "   ┌───┐┌───┐┌───┐┌───┐┌───┐\n",
       "q: ┤ H ├┤ T ├┤ H ├┤ T ├┤ Z ├\n",
       "   └───┘└───┘└───┘└───┘└───┘"
      ]
     },
     "execution_count": 90,
     "metadata": {},
     "output_type": "execute_result"
    }
   ],
   "source": [
    "from qiskit import QuantumCircuit\n",
    "\n",
    "circuit = QuantumCircuit(1)\n",
    "\n",
    "circuit.h(0)\n",
    "circuit.t(0)\n",
    "circuit.h(0)\n",
    "circuit.t(0)\n",
    "circuit.z(0)\n",
    "\n",
    "circuit.draw()"
   ]
  },
  {
   "cell_type": "code",
   "execution_count": 93,
   "metadata": {},
   "outputs": [
    {
     "data": {
      "text/plain": [
       "[ 0.85+0.35j,-0.35+0.15j]"
      ]
     },
     "execution_count": 93,
     "metadata": {},
     "output_type": "execute_result"
    }
   ],
   "source": [
    "ket0 = Statevector([1, 0])\n",
    "v = ket0.evolve(circuit)\n",
    "v.draw(\"text\")"
   ]
  },
  {
   "cell_type": "code",
   "execution_count": 96,
   "metadata": {},
   "outputs": [
    {
     "data": {
      "image/png": "[encoded data removed]",
      "text/plain": [
       "<Figure size 700x500 with 1 Axes>"
      ]
     },
     "execution_count": 96,
     "metadata": {},
     "output_type": "execute_result"
    }
   ],
   "source": [
    "statistics = v.sample_counts(1000)\n",
    "plot_histogram(statistics)"
   ]
  },
  {
   "cell_type": "code",
   "execution_count": 95,
   "metadata": {},
   "outputs": [
    {
     "name": "stdout",
     "output_type": "stream",
     "text": [
      "[[0.84]]\n"
     ]
    }
   ],
   "source": [
    "# Checking the result\n",
    "\n",
    "# Calculate the probability of the state vector to be 0:\n",
    "\n",
    "bra_0 = np.array([[1, 0]])\n",
    "ket_0 = np.array([[1], \n",
    "\t\t\t\t  [0]])\n",
    "\n",
    "statev = np.array([[0.85 + 0.35j],\n",
    "\t\t\t   [-0.35+0.15j]])\n",
    "\n",
    "print(np.matmul(bra_0, abs(statev))**2)"
   ]
  }
 ],
 "metadata": {
  "kernelspec": {
   "display_name": "Python 3",
   "language": "python",
   "name": "python3"
  },
  "language_info": {
   "codemirror_mode": {
    "name": "ipython",
    "version": 3
   },
   "file_extension": ".py",
   "mimetype": "text/x-python",
   "name": "python",
   "nbconvert_exporter": "python",
   "pygments_lexer": "ipython3",
   "version": "3.8.10"
  }
 },
 "nbformat": 4,
 "nbformat_minor": 2
}
