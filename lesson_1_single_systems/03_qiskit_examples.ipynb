{
 "cells": [
  {
   "cell_type": "markdown",
   "metadata": {},
   "source": [
    "[Continue at: Performing operations with Operator and Statevector\n",
    "](https://learning.quantum.ibm.com/course/basics-of-quantum-information/single-systems#performing-operations-with-operator-and-statevector)\n",
    "\n",
    "[IBM Quantum Learning](https://learning.quantum.ibm.com/)\\\n",
    "[Basics of quantum information](https://learning.quantum.ibm.com/course/basics-of-quantum-information)\\\n",
    "[Single systems](https://learning.quantum.ibm.com/course/basics-of-quantum-information/single-systems)\n"
   ]
  },
  {
   "cell_type": "markdown",
   "metadata": {},
   "source": [
    "## Qiskit examples"
   ]
  },
  {
   "cell_type": "markdown",
   "metadata": {},
   "source": [
    "### Vectors and matrices in Python"
   ]
  },
  {
   "cell_type": "code",
   "execution_count": 1,
   "metadata": {},
   "outputs": [
    {
     "data": {
      "text/plain": [
       "array([0.5, 0.5])"
      ]
     },
     "execution_count": 1,
     "metadata": {},
     "output_type": "execute_result"
    }
   ],
   "source": [
    "from numpy import array\n",
    "\n",
    "ket0 = array([1, 0])\n",
    "ket1 = array([0, 1])\n",
    "\n",
    "ket0 / 2 + ket1 / 2"
   ]
  },
  {
   "cell_type": "markdown",
   "metadata": {},
   "source": [
    "M1 = array([[1, 1], [0, 0]])\n",
    "M2 = array([[1, 1], [1, 0]])\n",
    "\n",
    "M1, M2"
   ]
  },
  {
   "cell_type": "code",
   "execution_count": 2,
   "metadata": {},
   "outputs": [
    {
     "data": {
      "text/plain": [
       "array([[1. , 1. ],\n",
       "       [0.5, 0. ]])"
      ]
     },
     "execution_count": 2,
     "metadata": {},
     "output_type": "execute_result"
    }
   ],
   "source": [
    "M1 = array([[1, 1], [0, 0]])\n",
    "M2 = array([[1, 1], [1, 0]])\n",
    "\n",
    "M1 / 2 + M2 / 2"
   ]
  },
  {
   "cell_type": "markdown",
   "metadata": {},
   "source": [
    "Matrix multiplication (including matrix-vector multiplication as a special case) can be performed using the 'matmul' function from 'NumPy':"
   ]
  },
  {
   "cell_type": "code",
   "execution_count": 3,
   "metadata": {},
   "outputs": [
    {
     "data": {
      "text/plain": [
       "array([1, 0])"
      ]
     },
     "metadata": {},
     "output_type": "display_data"
    },
    {
     "data": {
      "text/plain": [
       "array([[2, 1],\n",
       "       [0, 0]])"
      ]
     },
     "metadata": {},
     "output_type": "display_data"
    },
    {
     "data": {
      "text/plain": [
       "array([[1, 1],\n",
       "       [1, 1]])"
      ]
     },
     "metadata": {},
     "output_type": "display_data"
    }
   ],
   "source": [
    "from numpy import matmul\n",
    "\n",
    "display(matmul(M1, ket1))\n",
    "display(matmul(M1, M2))\n",
    "display(matmul(M2, M1))"
   ]
  },
  {
   "cell_type": "code",
   "execution_count": 4,
   "metadata": {},
   "outputs": [
    {
     "name": "stdout",
     "output_type": "stream",
     "text": [
      "State vectors u, v and w have been defined.\n"
     ]
    }
   ],
   "source": [
    "from qiskit.quantum_info import Statevector\n",
    "from numpy import sqrt\n",
    "\n",
    "u = Statevector([1 / sqrt(2), 1 / sqrt(2)])\n",
    "v = Statevector([(1 + 2.0j) / 3, -2 / 3])\n",
    "w = Statevector([1 / 3, 2 / 3])\n",
    "\n",
    "print(\"State vectors u, v and w have been defined.\")"
   ]
  },
  {
   "cell_type": "markdown",
   "metadata": {},
   "source": [
    "The 'Statevector' class provides a 'draw' method for displaying state vectors, including 'latex' and 'text' options for different visualizations, as this code cell demonstrates:"
   ]
  },
  {
   "cell_type": "code",
   "execution_count": 5,
   "metadata": {},
   "outputs": [
    {
     "data": {
      "text/latex": [
       "$$\\frac{\\sqrt{2}}{2} |0\\rangle+\\frac{\\sqrt{2}}{2} |1\\rangle$$"
      ],
      "text/plain": [
       "<IPython.core.display.Latex object>"
      ]
     },
     "metadata": {},
     "output_type": "display_data"
    },
    {
     "data": {
      "text/plain": [
       "[ 0.33333333+0.66666667j,-0.66666667+0.j        ]"
      ]
     },
     "metadata": {},
     "output_type": "display_data"
    }
   ],
   "source": [
    "display(u.draw(\"latex\"))\n",
    "display(v.draw(\"text\"))"
   ]
  },
  {
   "cell_type": "code",
   "execution_count": 6,
   "metadata": {},
   "outputs": [
    {
     "data": {
      "text/plain": [
       "True"
      ]
     },
     "metadata": {},
     "output_type": "display_data"
    },
    {
     "data": {
      "text/plain": [
       "False"
      ]
     },
     "metadata": {},
     "output_type": "display_data"
    }
   ],
   "source": [
    "display(u.is_valid())\n",
    "display(w.is_valid())"
   ]
  },
  {
   "cell_type": "markdown",
   "metadata": {},
   "source": [
    "### Simulating measurements using 'Statevector'"
   ]
  },
  {
   "cell_type": "markdown",
   "metadata": {},
   "source": [
    "Next we will see one way the measurements of quantum states can be simulated in Qiskit, using the 'measure' method from the 'Statevector' class.\n",
    "First, we create a qubit state vector 'v' and then display it."
   ]
  },
  {
   "cell_type": "code",
   "execution_count": 7,
   "metadata": {},
   "outputs": [
    {
     "data": {
      "text/plain": [
       "('1',\n",
       " Statevector([ 0.+0.j, -1.+0.j],\n",
       "             dims=(2,)))"
      ]
     },
     "execution_count": 7,
     "metadata": {},
     "output_type": "execute_result"
    }
   ],
   "source": [
    "v = Statevector([(1 + 2.0j) / 3, -2 / 3])\n",
    "v.draw(\"latex\")\n",
    "v.measure()\n",
    "\n",
    "# invalid quantum state vector\n",
    "# e = Statevector([(1 + 2.0j), -2])\n",
    "# e.draw(\"latex\")\n",
    "# e.measure()"
   ]
  },
  {
   "cell_type": "code",
   "execution_count": 8,
   "metadata": {},
   "outputs": [
    {
     "data": {
      "text/plain": [
       "{'0': 562, '1': 438}"
      ]
     },
     "metadata": {},
     "output_type": "display_data"
    },
    {
     "data": {
      "image/png": "[encoded data removed]",
      "text/plain": [
       "<Figure size 700x500 with 1 Axes>"
      ]
     },
     "execution_count": 8,
     "metadata": {},
     "output_type": "execute_result"
    }
   ],
   "source": [
    "from qiskit.visualization import plot_histogram\n",
    "\n",
    "statistics = v.sample_counts(1000)\n",
    "display(statistics)\n",
    "plot_histogram(statistics)"
   ]
  },
  {
   "cell_type": "markdown",
   "metadata": {},
   "source": [
    "### Performing operations with 'Operator' and 'Statevector'"
   ]
  },
  {
   "cell_type": "markdown",
   "metadata": {},
   "source": [
    "Unitary operations can be defined and performed on state vectors in Qiskit using the 'Operator' class, as in the example that follows."
   ]
  },
  {
   "cell_type": "code",
   "execution_count": 9,
   "metadata": {},
   "outputs": [
    {
     "data": {
      "text/plain": [
       "[ 0.85355339+0.35355339j,-0.35355339+0.14644661j]"
      ]
     },
     "execution_count": 9,
     "metadata": {},
     "output_type": "execute_result"
    }
   ],
   "source": [
    "from qiskit.quantum_info import Operator\n",
    "\n",
    "X = Operator([[0, 1], [1, 0]])\n",
    "Y = Operator([[0, -1.0j], [1.0j, 0]])\n",
    "Z = Operator([[1, 0], [0, -1]])\n",
    "H = Operator([[1 / sqrt(2), 1 / sqrt(2)], [1 / sqrt(2), -1 / sqrt(2)]])\n",
    "S = Operator([[1, 0], [0, 1.0j]])\n",
    "T = Operator([[1, 0], [0, (1 + 1.0j) / sqrt(2)]])\n",
    "\n",
    "v = Statevector([1, 0])\n",
    "\n",
    "v = v.evolve(H)\n",
    "v = v.evolve(T)\n",
    "v = v.evolve(H)\n",
    "v = v.evolve(T)\n",
    "v = v.evolve(Z)\n",
    "\n",
    "v.draw(\"text\")\n"
   ]
  },
  {
   "cell_type": "markdown",
   "metadata": {},
   "source": [
    "### Looking ahead toward quantum circuits\n",
    "\n",
    "We may define a quantum circuit as a sequence of unitary operations acting on qubits."
   ]
  },
  {
   "cell_type": "code",
   "execution_count": 10,
   "metadata": {},
   "outputs": [
    {
     "data": {
      "text/html": [
       "<pre style=\"word-wrap: normal;white-space: pre;background: #fff0;line-height: 1.1;font-family: &quot;Courier New&quot;,Courier,monospace\">   ┌───┐┌───┐┌───┐┌───┐┌───┐\n",
       "q: ┤ H ├┤ T ├┤ H ├┤ T ├┤ Z ├\n",
       "   └───┘└───┘└───┘└───┘└───┘</pre>"
      ],
      "text/plain": [
       "   ┌───┐┌───┐┌───┐┌───┐┌───┐\n",
       "q: ┤ H ├┤ T ├┤ H ├┤ T ├┤ Z ├\n",
       "   └───┘└───┘└───┘└───┘└───┘"
      ]
     },
     "execution_count": 10,
     "metadata": {},
     "output_type": "execute_result"
    }
   ],
   "source": [
    "from qiskit import QuantumCircuit\n",
    "\n",
    "circuit = QuantumCircuit(1)\n",
    "\n",
    "circuit.h(0)\n",
    "circuit.t(0)\n",
    "circuit.h(0)\n",
    "circuit.t(0)\n",
    "circuit.z(0)\n",
    "\n",
    "circuit.draw()\n"
   ]
  },
  {
   "cell_type": "code",
   "execution_count": 11,
   "metadata": {},
   "outputs": [
    {
     "data": {
      "text/plain": [
       "[ 0.85355339+0.35355339j,-0.35355339+0.14644661j]"
      ]
     },
     "execution_count": 11,
     "metadata": {},
     "output_type": "execute_result"
    }
   ],
   "source": [
    "ket0 = Statevector([1, 0])\n",
    "v = ket0.evolve(circuit)\n",
    "v.draw(\"text\")"
   ]
  },
  {
   "cell_type": "code",
   "execution_count": 12,
   "metadata": {},
   "outputs": [
    {
     "data": {
      "image/png": "[encoded data removed]",
      "text/plain": [
       "<Figure size 700x500 with 1 Axes>"
      ]
     },
     "execution_count": 12,
     "metadata": {},
     "output_type": "execute_result"
    }
   ],
   "source": [
    "statistics = v.sample_counts(4000)\n",
    "plot_histogram(statistics)"
   ]
  },
  {
   "cell_type": "code",
   "execution_count": 20,
   "metadata": {},
   "outputs": [
    {
     "name": "stdout",
     "output_type": "stream",
     "text": [
      "Pr(outcome is 0) = [[0.852218]]\n",
      "Pr(outcome is 1) = [[0.145925]]\n"
     ]
    }
   ],
   "source": [
    "# Checking the result\n",
    "\n",
    "# Calculate the probability of the state vector to be 0:\n",
    "\n",
    "bra_0 = array([[1, 0]])\n",
    "bra_1 = array([[0, 1]])\n",
    "\n",
    "V = array([[0.853 + 0.353j], \n",
    "\t\t\t  [-0.353+0.146j]])\n",
    "pr_0 = abs(matmul(bra_0, V))**2\n",
    "pr_1 = abs(matmul(bra_1, V))**2\n",
    "\n",
    "print(f\"Pr(outcome is 0) = {pr_0}\")\n",
    "print(f\"Pr(outcome is 1) = {pr_1}\")"
   ]
  }
 ],
 "metadata": {
  "kernelspec": {
   "display_name": "Python 3",
   "language": "python",
   "name": "python3"
  },
  "language_info": {
   "codemirror_mode": {
    "name": "ipython",
    "version": 3
   },
   "file_extension": ".py",
   "mimetype": "text/x-python",
   "name": "python",
   "nbconvert_exporter": "python",
   "pygments_lexer": "ipython3",
   "version": "3.8.10"
  }
 },
 "nbformat": 4,
 "nbformat_minor": 2
}
